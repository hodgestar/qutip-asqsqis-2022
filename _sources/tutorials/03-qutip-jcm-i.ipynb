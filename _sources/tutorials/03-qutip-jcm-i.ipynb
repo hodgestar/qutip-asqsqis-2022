{
 "cells": [
  {
   "cell_type": "markdown",
   "id": "fe1651df",
   "metadata": {},
   "source": [
    "# 03: Jaynes-Cummings Model and the Rotating Wave Approximation"
   ]
  },
  {
   "cell_type": "markdown",
   "id": "2a98787f",
   "metadata": {},
   "source": [
    "In this tutorial we will construct the Jaynes-Cummings Hamiltonian (with and without the RWA) and see how the system evolves under the Schrodinger equation (that is, without dissipation) .\n",
    "We will use this to investigate the limits of the RWA in the JCM."
   ]
  },
  {
   "cell_type": "markdown",
   "id": "2a8e8a06",
   "metadata": {},
   "source": [
    "The Jaynes-Cumming model is the simplest possible model of quantum mechanical light-matter interaction, describing a single two-level atom interacting with a single electromagnetic cavity mode. The full Hamiltonian for the system (in dipole interaction form) is given by\n",
    "\n",
    "$$H = H_{\\rm atom} + H_{\\rm cavity} + H_{\\rm interact}$$\n",
    "\n",
    "The atom Hamiltonian we use in this case is\n",
    "\n",
    "$$\\frac{1}{2} \\hbar \\omega_{a} \\sigma_z$$\n",
    "\n",
    "where $\\omega_a$ is the system frequency.\n",
    "\n",
    "Note that the Hamiltonian for the atom may take numerous forms. Any Hermitean operator on a two-level state is possible, but it is useful to nomalize the operator so that the difference between its eigenvalues is $1$ so that $\\omega_a$ has consistent units.\n",
    "\n",
    "The cavity Hamiltonian is given by\n",
    "\n",
    "$$H_{\\rm cavity} = \\hbar \\omega_c a^\\dagger a$$\n",
    "\n",
    "where $\\omega_c$ is $\\omega_a$ is the frequencies of the cavity and $a$ and $a^\\dagger$ are the annihilation and creation operators of the cavity respectively.\n",
    "\n",
    "The interaction Hamiltonian is given by\n",
    "\n",
    "$$H_{\\rm interact} = \\hbar g(a^\\dagger + a)(\\sigma_- + \\sigma_+)$$\n",
    "\n",
    "or with the rotating-wave approximation\n",
    "\n",
    "$$H_{\\rm interact-RWA} = \\hbar g(a^\\dagger\\sigma_- + a\\sigma_+)$$\n",
    "\n",
    "where $\\sigma_-$ and $\\sigma_+$ are the annihilation and creation operators for the atom respectively.\n",
    "\n",
    "Note that in this notebook we will work in units where $\\hbar=1$."
   ]
  },
  {
   "cell_type": "markdown",
   "id": "09462027",
   "metadata": {},
   "source": [
    "## Tasks\n",
    "\n",
    "- [Construct the Hamiltonian](#construct-the-hamiltonian)\n",
    "- [Solve the Schrodinger equation](#solve-the-schrodinger-equation)\n",
    "- [Visualise the evolution](#visualise-the-evolution)\n",
    "- [Compare the RWA and non-RWA](#compare-the-rwa-and-non-rwa)"
   ]
  },
  {
   "cell_type": "markdown",
   "id": "25c6fcc9",
   "metadata": {},
   "source": [
    "## Imports"
   ]
  },
  {
   "cell_type": "code",
   "execution_count": 1,
   "id": "8e007413",
   "metadata": {},
   "outputs": [],
   "source": [
    "%matplotlib inline\n",
    "import matplotlib.pyplot as plt"
   ]
  },
  {
   "cell_type": "code",
   "execution_count": 2,
   "id": "e9ac8432",
   "metadata": {},
   "outputs": [],
   "source": [
    "import qutip\n",
    "import numpy as np"
   ]
  },
  {
   "cell_type": "markdown",
   "id": "982b0223",
   "metadata": {
    "tags": [
     "hide-cell"
    ]
   },
   "source": [
    "## Helper functions"
   ]
  },
  {
   "cell_type": "code",
   "execution_count": 3,
   "id": "1f07bfdf",
   "metadata": {
    "tags": [
     "hide-cell"
    ]
   },
   "outputs": [],
   "source": [
    "def display_eigenstates(op):\n",
    "    \"\"\" Display the eigenvalues and eigenstates of an operator. \"\"\"\n",
    "    evals, evecs = op.eigenstates()\n",
    "    print(\"Eigenvalues:\", evals)\n",
    "    print()\n",
    "    print(\"Eigenstates\")\n",
    "    print(\"===========\")\n",
    "    for v in evecs:\n",
    "        display(v)"
   ]
  },
  {
   "cell_type": "code",
   "execution_count": 4,
   "id": "e98fa651",
   "metadata": {
    "tags": [
     "hide-cell"
    ]
   },
   "outputs": [],
   "source": [
    "def jcm_h(wc, wa, g, N, atom):\n",
    "    \"\"\" Construct the Jaynes-Cummings Hamiltonian (non-RWA). \"\"\"\n",
    "    a = qutip.tensor(qutip.destroy(N), qutip.qeye(2))\n",
    "    sm = qutip.tensor(qutip.qeye(N), qutip.sigmam())\n",
    "    atom = qutip.tensor(qutip.qeye(N), atom)\n",
    "    \n",
    "    H = wc * a.dag() * a + wa * atom + g * (a.dag() + a) * (sm + sm.dag())\n",
    "    return H"
   ]
  },
  {
   "cell_type": "code",
   "execution_count": 5,
   "id": "fcdae223",
   "metadata": {
    "tags": [
     "hide-cell"
    ]
   },
   "outputs": [],
   "source": [
    "def jcm_rwa_h(wc, wa, g, N, atom):\n",
    "    \"\"\" Construct the Jaynes-Cummings Hamiltonian (RWA). \"\"\"\n",
    "    a = qutip.tensor(qutip.destroy(N), qutip.qeye(2))\n",
    "    sm = qutip.tensor(qutip.qeye(N), qutip.sigmam())\n",
    "    atom = qutip.tensor(qutip.qeye(N), atom)\n",
    "\n",
    "    H = wc * a.dag() * a + wa * atom + g * (a.dag() * sm + a * sm.dag())\n",
    "    return H"
   ]
  },
  {
   "cell_type": "markdown",
   "id": "449422ca",
   "metadata": {},
   "source": [
    "## Construct the Hamiltonian\n",
    "\n",
    "- add variables for the atom and cavity parameters\n",
    "- create the operators for the JCM Hamiltonian\n",
    "- combine into the JCM Hamiltonian (no RWA)\n",
    "- look at the energy eigenvalues and eigenstates of the Hamiltonian\n",
    "\n",
    "Here are some example parameter values to start with:\n",
    "\n",
    "$\n",
    "  \\omega_c = 2 \\pi \\\\\n",
    "  \\omega_a = 2 \\pi \\\\\n",
    "  g = 0.05 \\cdot 2 \\pi \\\\\n",
    "$"
   ]
  },
  {
   "cell_type": "code",
   "execution_count": 6,
   "id": "1e7795fa",
   "metadata": {
    "tags": [
     "hide-cell"
    ]
   },
   "outputs": [],
   "source": [
    "# system parameters\n",
    "wc = 1.0 * 2 * np.pi  # cavity frequency\n",
    "wa = 1.0 * 2 * np.pi  # atom frequency\n",
    "g = 0.05 * 2 * np.pi # 0.05 * 2 * np.pi  # coupling strength\n",
    "N = 15  # number of cavity fock states"
   ]
  },
  {
   "cell_type": "code",
   "execution_count": 7,
   "id": "ba6a7a7a",
   "metadata": {
    "tags": [
     "hide-cell"
    ]
   },
   "outputs": [],
   "source": [
    "# operators for the JCM\n",
    "# this is the annihilation operator for the cavity (note it acts trivally on the atom) \n",
    "a = qutip.tensor(qutip.destroy(N), qutip.qeye(2))\n",
    "# note the creation operator for the cavity is given by a.dag() - that is a \"dagger\"\n",
    "\n",
    "# this is annihilation operator for the atom (note it acts trivally on the cavity)\n",
    "sm = qutip.tensor(qutip.qeye(N), qutip.sigmam())"
   ]
  },
  {
   "cell_type": "code",
   "execution_count": 8,
   "id": "2c443880",
   "metadata": {
    "tags": [
     "hide-cell"
    ]
   },
   "outputs": [],
   "source": [
    "# hamiltonian of atom\n",
    "H_atom = 0.5 * qutip.sigmaz()"
   ]
  },
  {
   "cell_type": "code",
   "execution_count": 9,
   "id": "49ca51ca",
   "metadata": {
    "tags": [
     "hide-cell"
    ]
   },
   "outputs": [],
   "source": [
    "# hamiltonian (non-rwa)\n",
    "H = wc * a.dag() * a + wa * sm.dag() * sm + g * (a.dag() + a) * (sm + sm.dag())"
   ]
  },
  {
   "cell_type": "code",
   "execution_count": 10,
   "id": "d9f782ab",
   "metadata": {
    "tags": [
     "hide-cell"
    ]
   },
   "outputs": [
    {
     "name": "stdout",
     "output_type": "stream",
     "text": [
      "Eigenvalues: [-7.85889344e-03  5.96126089e+00  6.58938206e+00  1.21144878e+01\n",
      "  1.30025059e+01  1.82980462e+01  1.93852982e+01  2.44973215e+01\n",
      "  2.57523736e+01  3.07066509e+01  3.21093947e+01  3.69231295e+01\n",
      "  3.84592664e+01  4.31450310e+01  4.48037151e+01  4.93712306e+01\n",
      "  5.11438657e+01  5.56009463e+01  5.74804999e+01  6.18336091e+01\n",
      "  6.38141870e+01  6.80687891e+01  7.01453568e+01  7.43061538e+01\n",
      "  7.64743463e+01  8.05458680e+01  8.28020375e+01  8.68443187e+01\n",
      "  8.91878173e+01  9.43576629e+01]\n",
      "\n",
      "Eigenstates\n",
      "===========\n"
     ]
    },
    {
     "data": {
      "text/latex": [
       "Quantum object: dims = [[15, 2], [1, 1]], shape = (30, 1), type = ket $ \\\\ \\left(\\begin{matrix}0.0\\\\-1.000\\\\0.025\\\\0.0\\\\0.0\\\\\\vdots\\\\0.0\\\\0.0\\\\0.0\\\\0.0\\\\0.0\\\\\\end{matrix}\\right)$"
      ],
      "text/plain": [
       "Quantum object: dims = [[15, 2], [1, 1]], shape = (30, 1), type = ket\n",
       "Qobj data =\n",
       "[[ 0.00000000e+00]\n",
       " [-9.99686865e-01]\n",
       " [ 2.50078015e-02]\n",
       " [ 0.00000000e+00]\n",
       " [ 0.00000000e+00]\n",
       " [-8.84435600e-04]\n",
       " [ 1.91545770e-05]\n",
       " [ 0.00000000e+00]\n",
       " [ 0.00000000e+00]\n",
       " [-4.78964167e-07]\n",
       " [ 8.92682948e-09]\n",
       " [ 0.00000000e+00]\n",
       " [ 0.00000000e+00]\n",
       " [-1.82246607e-10]\n",
       " [ 3.01406956e-12]\n",
       " [ 0.00000000e+00]\n",
       " [ 0.00000000e+00]\n",
       " [ 0.00000000e+00]\n",
       " [ 0.00000000e+00]\n",
       " [ 0.00000000e+00]\n",
       " [ 0.00000000e+00]\n",
       " [ 0.00000000e+00]\n",
       " [ 0.00000000e+00]\n",
       " [ 0.00000000e+00]\n",
       " [ 0.00000000e+00]\n",
       " [ 0.00000000e+00]\n",
       " [ 0.00000000e+00]\n",
       " [ 0.00000000e+00]\n",
       " [ 0.00000000e+00]\n",
       " [ 0.00000000e+00]]"
      ]
     },
     "metadata": {},
     "output_type": "display_data"
    },
    {
     "data": {
      "text/latex": [
       "Quantum object: dims = [[15, 2], [1, 1]], shape = (30, 1), type = ket $ \\\\ \\left(\\begin{matrix}0.698\\\\0.0\\\\0.0\\\\-0.715\\\\0.025\\\\\\vdots\\\\0.0\\\\0.0\\\\0.0\\\\0.0\\\\0.0\\\\\\end{matrix}\\right)$"
      ],
      "text/plain": [
       "Quantum object: dims = [[15, 2], [1, 1]], shape = (30, 1), type = ket\n",
       "Qobj data =\n",
       "[[ 6.98208962e-01]\n",
       " [ 0.00000000e+00]\n",
       " [ 0.00000000e+00]\n",
       " [-7.15466754e-01]\n",
       " [ 2.47078307e-02]\n",
       " [ 0.00000000e+00]\n",
       " [ 0.00000000e+00]\n",
       " [-1.04441470e-03]\n",
       " [ 2.57998120e-05]\n",
       " [ 0.00000000e+00]\n",
       " [ 0.00000000e+00]\n",
       " [-7.12442730e-07]\n",
       " [ 1.44264408e-08]\n",
       " [ 0.00000000e+00]\n",
       " [ 0.00000000e+00]\n",
       " [-3.15509560e-10]\n",
       " [ 5.54390511e-12]\n",
       " [ 0.00000000e+00]\n",
       " [ 0.00000000e+00]\n",
       " [ 0.00000000e+00]\n",
       " [ 0.00000000e+00]\n",
       " [ 0.00000000e+00]\n",
       " [ 0.00000000e+00]\n",
       " [ 0.00000000e+00]\n",
       " [ 0.00000000e+00]\n",
       " [ 0.00000000e+00]\n",
       " [ 0.00000000e+00]\n",
       " [ 0.00000000e+00]\n",
       " [ 0.00000000e+00]\n",
       " [ 0.00000000e+00]]"
      ]
     },
     "metadata": {},
     "output_type": "display_data"
    },
    {
     "data": {
      "text/latex": [
       "Quantum object: dims = [[15, 2], [1, 1]], shape = (30, 1), type = ket $ \\\\ \\left(\\begin{matrix}0.716\\\\0.0\\\\0.0\\\\0.698\\\\-0.025\\\\\\vdots\\\\0.0\\\\0.0\\\\0.0\\\\0.0\\\\0.0\\\\\\end{matrix}\\right)$"
      ],
      "text/plain": [
       "Quantum object: dims = [[15, 2], [1, 1]], shape = (30, 1), type = ket\n",
       "Qobj data =\n",
       "[[ 7.15893465e-01]\n",
       " [ 0.00000000e+00]\n",
       " [ 0.00000000e+00]\n",
       " [ 6.97748812e-01]\n",
       " [-2.53352264e-02]\n",
       " [ 0.00000000e+00]\n",
       " [ 0.00000000e+00]\n",
       " [ 1.12590764e-03]\n",
       " [-2.85176960e-05]\n",
       " [ 0.00000000e+00]\n",
       " [ 0.00000000e+00]\n",
       " [ 8.07440058e-07]\n",
       " [-1.66249825e-08]\n",
       " [ 0.00000000e+00]\n",
       " [ 0.00000000e+00]\n",
       " [ 3.69704236e-10]\n",
       " [-6.57790667e-12]\n",
       " [ 0.00000000e+00]\n",
       " [ 0.00000000e+00]\n",
       " [ 0.00000000e+00]\n",
       " [ 0.00000000e+00]\n",
       " [ 0.00000000e+00]\n",
       " [ 0.00000000e+00]\n",
       " [ 0.00000000e+00]\n",
       " [ 0.00000000e+00]\n",
       " [ 0.00000000e+00]\n",
       " [ 0.00000000e+00]\n",
       " [ 0.00000000e+00]\n",
       " [ 0.00000000e+00]\n",
       " [ 0.00000000e+00]]"
      ]
     },
     "metadata": {},
     "output_type": "display_data"
    },
    {
     "data": {
      "text/latex": [
       "Quantum object: dims = [[15, 2], [1, 1]], shape = (30, 1), type = ket $ \\\\ \\left(\\begin{matrix}0.0\\\\-0.018\\\\-0.694\\\\0.0\\\\0.0\\\\\\vdots\\\\0.0\\\\0.0\\\\0.0\\\\0.0\\\\0.0\\\\\\end{matrix}\\right)$"
      ],
      "text/plain": [
       "Quantum object: dims = [[15, 2], [1, 1]], shape = (30, 1), type = ket\n",
       "Qobj data =\n",
       "[[ 0.00000000e+00]\n",
       " [-1.80040304e-02]\n",
       " [-6.94264443e-01]\n",
       " [ 0.00000000e+00]\n",
       " [ 0.00000000e+00]\n",
       " [ 7.18862683e-01]\n",
       " [-3.01174415e-02]\n",
       " [ 0.00000000e+00]\n",
       " [ 0.00000000e+00]\n",
       " [ 1.45575988e-03]\n",
       " [-4.00072715e-05]\n",
       " [ 0.00000000e+00]\n",
       " [ 0.00000000e+00]\n",
       " [ 1.20418458e-06]\n",
       " [-2.62495495e-08]\n",
       " [ 0.00000000e+00]\n",
       " [ 0.00000000e+00]\n",
       " [ 6.11660424e-10]\n",
       " [-1.13707713e-11]\n",
       " [ 0.00000000e+00]\n",
       " [ 0.00000000e+00]\n",
       " [ 0.00000000e+00]\n",
       " [ 0.00000000e+00]\n",
       " [ 0.00000000e+00]\n",
       " [ 0.00000000e+00]\n",
       " [ 0.00000000e+00]\n",
       " [ 0.00000000e+00]\n",
       " [ 0.00000000e+00]\n",
       " [ 0.00000000e+00]\n",
       " [ 0.00000000e+00]]"
      ]
     },
     "metadata": {},
     "output_type": "display_data"
    },
    {
     "data": {
      "text/latex": [
       "Quantum object: dims = [[15, 2], [1, 1]], shape = (30, 1), type = ket $ \\\\ \\left(\\begin{matrix}0.0\\\\0.017\\\\0.719\\\\0.0\\\\0.0\\\\\\vdots\\\\0.0\\\\0.0\\\\0.0\\\\0.0\\\\0.0\\\\\\end{matrix}\\right)$"
      ],
      "text/plain": [
       "Quantum object: dims = [[15, 2], [1, 1]], shape = (30, 1), type = ket\n",
       "Qobj data =\n",
       "[[ 0.00000000e+00]\n",
       " [ 1.73789310e-02]\n",
       " [ 7.19283745e-01]\n",
       " [ 0.00000000e+00]\n",
       " [ 0.00000000e+00]\n",
       " [ 6.93795657e-01]\n",
       " [-3.12062484e-02]\n",
       " [ 0.00000000e+00]\n",
       " [ 0.00000000e+00]\n",
       " [ 1.61908216e-03]\n",
       " [-4.60986993e-05]\n",
       " [ 0.00000000e+00]\n",
       " [ 0.00000000e+00]\n",
       " [ 1.43748474e-06]\n",
       " [-3.20827610e-08]\n",
       " [ 0.00000000e+00]\n",
       " [ 0.00000000e+00]\n",
       " [ 7.65414952e-10]\n",
       " [-1.44829422e-11]\n",
       " [ 0.00000000e+00]\n",
       " [ 0.00000000e+00]\n",
       " [ 0.00000000e+00]\n",
       " [ 0.00000000e+00]\n",
       " [ 0.00000000e+00]\n",
       " [ 0.00000000e+00]\n",
       " [ 0.00000000e+00]\n",
       " [ 0.00000000e+00]\n",
       " [ 0.00000000e+00]\n",
       " [ 0.00000000e+00]\n",
       " [ 0.00000000e+00]]"
      ]
     },
     "metadata": {},
     "output_type": "display_data"
    },
    {
     "data": {
      "text/latex": [
       "Quantum object: dims = [[15, 2], [1, 1]], shape = (30, 1), type = ket $ \\\\ \\left(\\begin{matrix}6.687\\times10^{-04}\\\\0.0\\\\0.0\\\\0.026\\\\0.691\\\\\\vdots\\\\0.0\\\\0.0\\\\0.0\\\\0.0\\\\0.0\\\\\\end{matrix}\\right)$"
      ],
      "text/plain": [
       "Quantum object: dims = [[15, 2], [1, 1]], shape = (30, 1), type = ket\n",
       "Qobj data =\n",
       "[[ 6.68738601e-04]\n",
       " [ 0.00000000e+00]\n",
       " [ 0.00000000e+00]\n",
       " [ 2.55755668e-02]\n",
       " [ 6.91165605e-01]\n",
       " [ 0.00000000e+00]\n",
       " [ 0.00000000e+00]\n",
       " [-7.21409193e-01]\n",
       " [ 3.46535170e-02]\n",
       " [ 0.00000000e+00]\n",
       " [ 0.00000000e+00]\n",
       " [-1.85901682e-03]\n",
       " [ 5.57567367e-05]\n",
       " [ 0.00000000e+00]\n",
       " [ 0.00000000e+00]\n",
       " [-1.80583773e-06]\n",
       " [ 4.19757989e-08]\n",
       " [ 0.00000000e+00]\n",
       " [ 0.00000000e+00]\n",
       " [-1.03479010e-09]\n",
       " [ 2.02383857e-11]\n",
       " [ 0.00000000e+00]\n",
       " [ 0.00000000e+00]\n",
       " [ 0.00000000e+00]\n",
       " [ 0.00000000e+00]\n",
       " [ 0.00000000e+00]\n",
       " [ 0.00000000e+00]\n",
       " [ 0.00000000e+00]\n",
       " [ 0.00000000e+00]\n",
       " [ 0.00000000e+00]]"
      ]
     },
     "metadata": {},
     "output_type": "display_data"
    },
    {
     "data": {
      "text/latex": [
       "Quantum object: dims = [[15, 2], [1, 1]], shape = (30, 1), type = ket $ \\\\ \\left(\\begin{matrix}5.872\\times10^{-04}\\\\0.0\\\\0.0\\\\0.024\\\\0.722\\\\\\vdots\\\\0.0\\\\0.0\\\\0.0\\\\0.0\\\\0.0\\\\\\end{matrix}\\right)$"
      ],
      "text/plain": [
       "Quantum object: dims = [[15, 2], [1, 1]], shape = (30, 1), type = ket\n",
       "Qobj data =\n",
       "[[ 5.87238370e-04]\n",
       " [ 0.00000000e+00]\n",
       " [ 0.00000000e+00]\n",
       " [ 2.44909646e-02]\n",
       " [ 7.21826125e-01]\n",
       " [ 0.00000000e+00]\n",
       " [ 0.00000000e+00]\n",
       " [ 6.90689693e-01]\n",
       " [-3.61960170e-02]\n",
       " [ 0.00000000e+00]\n",
       " [ 0.00000000e+00]\n",
       " [ 2.11776763e-03]\n",
       " [-6.63312716e-05]\n",
       " [ 0.00000000e+00]\n",
       " [ 0.00000000e+00]\n",
       " [ 2.24342019e-06]\n",
       " [-5.36747415e-08]\n",
       " [ 0.00000000e+00]\n",
       " [ 0.00000000e+00]\n",
       " [ 1.36194038e-09]\n",
       " [-2.72196507e-11]\n",
       " [ 0.00000000e+00]\n",
       " [ 0.00000000e+00]\n",
       " [ 0.00000000e+00]\n",
       " [ 0.00000000e+00]\n",
       " [ 0.00000000e+00]\n",
       " [ 0.00000000e+00]\n",
       " [ 0.00000000e+00]\n",
       " [ 0.00000000e+00]\n",
       " [ 0.00000000e+00]]"
      ]
     },
     "metadata": {},
     "output_type": "display_data"
    },
    {
     "data": {
      "text/latex": [
       "Quantum object: dims = [[15, 2], [1, 1]], shape = (30, 1), type = ket $ \\\\ \\left(\\begin{matrix}0.0\\\\-1.502\\times10^{-05}\\\\-0.001\\\\0.0\\\\0.0\\\\\\vdots\\\\0.0\\\\0.0\\\\0.0\\\\0.0\\\\0.0\\\\\\end{matrix}\\right)$"
      ],
      "text/plain": [
       "Quantum object: dims = [[15, 2], [1, 1]], shape = (30, 1), type = ket\n",
       "Qobj data =\n",
       "[[ 0.00000000e+00]\n",
       " [-1.50214548e-05]\n",
       " [-1.17133393e-03]\n",
       " [ 0.00000000e+00]\n",
       " [ 0.00000000e+00]\n",
       " [-3.14444667e-02]\n",
       " [-6.88503156e-01]\n",
       " [ 0.00000000e+00]\n",
       " [ 0.00000000e+00]\n",
       " [ 7.23516315e-01]\n",
       " [-3.86306044e-02]\n",
       " [ 0.00000000e+00]\n",
       " [ 0.00000000e+00]\n",
       " [ 2.25635855e-03]\n",
       " [-7.28686590e-05]\n",
       " [ 0.00000000e+00]\n",
       " [ 0.00000000e+00]\n",
       " [ 2.51503009e-06]\n",
       " [-6.18751253e-08]\n",
       " [ 0.00000000e+00]\n",
       " [ 0.00000000e+00]\n",
       " [ 1.60441833e-09]\n",
       " [-3.28576879e-11]\n",
       " [ 0.00000000e+00]\n",
       " [ 0.00000000e+00]\n",
       " [ 0.00000000e+00]\n",
       " [ 0.00000000e+00]\n",
       " [ 0.00000000e+00]\n",
       " [ 0.00000000e+00]\n",
       " [ 0.00000000e+00]]"
      ]
     },
     "metadata": {},
     "output_type": "display_data"
    },
    {
     "data": {
      "text/latex": [
       "Quantum object: dims = [[15, 2], [1, 1]], shape = (30, 1), type = ket $ \\\\ \\left(\\begin{matrix}0.0\\\\1.230\\times10^{-05}\\\\0.001\\\\0.0\\\\0.0\\\\\\vdots\\\\1.015\\times10^{-12}\\\\0.0\\\\0.0\\\\0.0\\\\0.0\\\\\\end{matrix}\\right)$"
      ],
      "text/plain": [
       "Quantum object: dims = [[15, 2], [1, 1]], shape = (30, 1), type = ket\n",
       "Qobj data =\n",
       "[[ 0.00000000e+00]\n",
       " [ 1.22969628e-05]\n",
       " [ 1.00801095e-03]\n",
       " [ 0.00000000e+00]\n",
       " [ 0.00000000e+00]\n",
       " [ 2.99079953e-02]\n",
       " [ 7.23929881e-01]\n",
       " [ 0.00000000e+00]\n",
       " [ 0.00000000e+00]\n",
       " [ 6.88020868e-01]\n",
       " [-4.06253481e-02]\n",
       " [ 0.00000000e+00]\n",
       " [ 0.00000000e+00]\n",
       " [ 2.62301250e-03]\n",
       " [-8.90579008e-05]\n",
       " [ 0.00000000e+00]\n",
       " [ 0.00000000e+00]\n",
       " [ 3.23142335e-06]\n",
       " [-8.21946233e-08]\n",
       " [ 0.00000000e+00]\n",
       " [ 0.00000000e+00]\n",
       " [ 2.20351485e-09]\n",
       " [-4.62687826e-11]\n",
       " [ 0.00000000e+00]\n",
       " [ 0.00000000e+00]\n",
       " [ 1.01467289e-12]\n",
       " [ 0.00000000e+00]\n",
       " [ 0.00000000e+00]\n",
       " [ 0.00000000e+00]\n",
       " [ 0.00000000e+00]]"
      ]
     },
     "metadata": {},
     "output_type": "display_data"
    },
    {
     "data": {
      "text/latex": [
       "Quantum object: dims = [[15, 2], [1, 1]], shape = (30, 1), type = ket $ \\\\ \\left(\\begin{matrix}3.916\\times10^{-07}\\\\0.0\\\\0.0\\\\3.044\\times10^{-05}\\\\0.002\\\\\\vdots\\\\0.0\\\\0.0\\\\-1.111\\times10^{-12}\\\\0.0\\\\0.0\\\\\\end{matrix}\\right)$"
      ],
      "text/plain": [
       "Quantum object: dims = [[15, 2], [1, 1]], shape = (30, 1), type = ket\n",
       "Qobj data =\n",
       "[[ 3.91577190e-07]\n",
       " [ 0.00000000e+00]\n",
       " [ 0.00000000e+00]\n",
       " [ 3.04421135e-05]\n",
       " [ 1.67319037e-03]\n",
       " [ 0.00000000e+00]\n",
       " [ 0.00000000e+00]\n",
       " [ 3.64348494e-02]\n",
       " [ 6.86118583e-01]\n",
       " [ 0.00000000e+00]\n",
       " [ 0.00000000e+00]\n",
       " [-7.25342830e-01]\n",
       " [ 4.22107314e-02]\n",
       " [ 0.00000000e+00]\n",
       " [ 0.00000000e+00]\n",
       " [-2.64891551e-03]\n",
       " [ 9.12042738e-05]\n",
       " [ 0.00000000e+00]\n",
       " [ 0.00000000e+00]\n",
       " [-3.32960176e-06]\n",
       " [ 8.61858592e-08]\n",
       " [ 0.00000000e+00]\n",
       " [ 0.00000000e+00]\n",
       " [-2.33947862e-09]\n",
       " [ 4.99711095e-11]\n",
       " [ 0.00000000e+00]\n",
       " [ 0.00000000e+00]\n",
       " [-1.11088902e-12]\n",
       " [ 0.00000000e+00]\n",
       " [ 0.00000000e+00]]"
      ]
     },
     "metadata": {},
     "output_type": "display_data"
    },
    {
     "data": {
      "text/latex": [
       "Quantum object: dims = [[15, 2], [1, 1]], shape = (30, 1), type = ket $ \\\\ \\left(\\begin{matrix}2.960\\times10^{-07}\\\\0.0\\\\0.0\\\\2.434\\times10^{-05}\\\\0.001\\\\\\vdots\\\\0.0\\\\0.0\\\\1.675\\times10^{-12}\\\\0.0\\\\0.0\\\\\\end{matrix}\\right)$"
      ],
      "text/plain": [
       "Quantum object: dims = [[15, 2], [1, 1]], shape = (30, 1), type = ket\n",
       "Qobj data =\n",
       "[[ 2.96035326e-07]\n",
       " [ 0.00000000e+00]\n",
       " [ 0.00000000e+00]\n",
       " [ 2.43362878e-05]\n",
       " [ 1.41444434e-03]\n",
       " [ 0.00000000e+00]\n",
       " [ 0.00000000e+00]\n",
       " [ 3.44479326e-02]\n",
       " [ 7.25753505e-01]\n",
       " [ 0.00000000e+00]\n",
       " [ 0.00000000e+00]\n",
       " [ 6.85630382e-01]\n",
       " [-4.46578903e-02]\n",
       " [ 0.00000000e+00]\n",
       " [ 0.00000000e+00]\n",
       " [ 3.13491183e-03]\n",
       " [-1.14150805e-04]\n",
       " [ 0.00000000e+00]\n",
       " [ 0.00000000e+00]\n",
       " [ 4.40693251e-06]\n",
       " [-1.18403072e-07]\n",
       " [ 0.00000000e+00]\n",
       " [ 0.00000000e+00]\n",
       " [ 3.33596780e-09]\n",
       " [-7.32744713e-11]\n",
       " [ 0.00000000e+00]\n",
       " [ 0.00000000e+00]\n",
       " [ 1.67506834e-12]\n",
       " [ 0.00000000e+00]\n",
       " [ 0.00000000e+00]]"
      ]
     },
     "metadata": {},
     "output_type": "display_data"
    },
    {
     "data": {
      "text/latex": [
       "Quantum object: dims = [[15, 2], [1, 1]], shape = (30, 1), type = ket $ \\\\ \\left(\\begin{matrix}0.0\\\\7.562\\times10^{-09}\\\\8.888\\times10^{-07}\\\\0.0\\\\0.0\\\\\\vdots\\\\-3.258\\times10^{-09}\\\\7.235\\times10^{-11}\\\\0.0\\\\0.0\\\\-1.666\\times10^{-12}\\\\\\end{matrix}\\right)$"
      ],
      "text/plain": [
       "Quantum object: dims = [[15, 2], [1, 1]], shape = (30, 1), type = ket\n",
       "Qobj data =\n",
       "[[ 0.00000000e+00]\n",
       " [ 7.56197211e-09]\n",
       " [ 8.88758366e-07]\n",
       " [ 0.00000000e+00]\n",
       " [ 0.00000000e+00]\n",
       " [ 4.87181361e-05]\n",
       " [ 2.17999310e-03]\n",
       " [ 0.00000000e+00]\n",
       " [ 0.00000000e+00]\n",
       " [ 4.08653482e-02]\n",
       " [ 6.83930622e-01]\n",
       " [ 0.00000000e+00]\n",
       " [ 0.00000000e+00]\n",
       " [-7.26970130e-01]\n",
       " [ 4.54902731e-02]\n",
       " [ 0.00000000e+00]\n",
       " [ 0.00000000e+00]\n",
       " [-3.03738629e-03]\n",
       " [ 1.10653423e-04]\n",
       " [ 0.00000000e+00]\n",
       " [ 0.00000000e+00]\n",
       " [-4.24758749e-06]\n",
       " [ 1.15121565e-07]\n",
       " [ 0.00000000e+00]\n",
       " [ 0.00000000e+00]\n",
       " [-3.25837807e-09]\n",
       " [ 7.23486268e-11]\n",
       " [ 0.00000000e+00]\n",
       " [ 0.00000000e+00]\n",
       " [-1.66617669e-12]]"
      ]
     },
     "metadata": {},
     "output_type": "display_data"
    },
    {
     "data": {
      "text/latex": [
       "Quantum object: dims = [[15, 2], [1, 1]], shape = (30, 1), type = ket $ \\\\ \\left(\\begin{matrix}0.0\\\\-5.343\\times10^{-09}\\\\-6.541\\times10^{-07}\\\\0.0\\\\0.0\\\\\\vdots\\\\-4.807\\times10^{-09}\\\\1.100\\times10^{-10}\\\\0.0\\\\0.0\\\\-2.613\\times10^{-12}\\\\\\end{matrix}\\right)$"
      ],
      "text/plain": [
       "Quantum object: dims = [[15, 2], [1, 1]], shape = (30, 1), type = ket\n",
       "Qobj data =\n",
       "[[ 0.00000000e+00]\n",
       " [-5.34337161e-09]\n",
       " [-6.54133667e-07]\n",
       " [ 0.00000000e+00]\n",
       " [ 0.00000000e+00]\n",
       " [-3.81187991e-05]\n",
       " [-1.81334916e-03]\n",
       " [ 0.00000000e+00]\n",
       " [ 0.00000000e+00]\n",
       " [-3.84278040e-02]\n",
       " [-7.27378239e-01]\n",
       " [ 0.00000000e+00]\n",
       " [ 0.00000000e+00]\n",
       " [-6.83436824e-01]\n",
       " [ 4.83906336e-02]\n",
       " [ 0.00000000e+00]\n",
       " [ 0.00000000e+00]\n",
       " [-3.65334267e-03]\n",
       " [ 1.41508641e-04]\n",
       " [ 0.00000000e+00]\n",
       " [ 0.00000000e+00]\n",
       " [-5.77504924e-06]\n",
       " [ 1.63040187e-07]\n",
       " [ 0.00000000e+00]\n",
       " [ 0.00000000e+00]\n",
       " [-4.80679410e-09]\n",
       " [ 1.10044933e-10]\n",
       " [ 0.00000000e+00]\n",
       " [ 0.00000000e+00]\n",
       " [-2.61295542e-12]]"
      ]
     },
     "metadata": {},
     "output_type": "display_data"
    },
    {
     "data": {
      "text/latex": [
       "Quantum object: dims = [[15, 2], [1, 1]], shape = (30, 1), type = ket $ \\\\ \\left(\\begin{matrix}1.603\\times10^{-10}\\\\0.0\\\\0.0\\\\1.881\\times10^{-08}\\\\1.561\\times10^{-06}\\\\\\vdots\\\\0.0\\\\0.0\\\\-4.379\\times10^{-09}\\\\1.007\\times10^{-10}\\\\0.0\\\\\\end{matrix}\\right)$"
      ],
      "text/plain": [
       "Quantum object: dims = [[15, 2], [1, 1]], shape = (30, 1), type = ket\n",
       "Qobj data =\n",
       "[[ 1.60345299e-10]\n",
       " [ 0.00000000e+00]\n",
       " [ 0.00000000e+00]\n",
       " [ 1.88140995e-08]\n",
       " [ 1.56086053e-06]\n",
       " [ 0.00000000e+00]\n",
       " [ 0.00000000e+00]\n",
       " [ 6.96760071e-05]\n",
       " [ 2.69284175e-03]\n",
       " [ 0.00000000e+00]\n",
       " [ 0.00000000e+00]\n",
       " [ 4.48991821e-02]\n",
       " [ 6.81891021e-01]\n",
       " [ 0.00000000e+00]\n",
       " [ 0.00000000e+00]\n",
       " [-7.28446535e-01]\n",
       " [ 4.85320475e-02]\n",
       " [ 0.00000000e+00]\n",
       " [ 0.00000000e+00]\n",
       " [-3.42225375e-03]\n",
       " [ 1.31126507e-04]\n",
       " [ 0.00000000e+00]\n",
       " [ 0.00000000e+00]\n",
       " [-5.26719425e-06]\n",
       " [ 1.48875963e-07]\n",
       " [ 0.00000000e+00]\n",
       " [ 0.00000000e+00]\n",
       " [-4.37905162e-09]\n",
       " [ 1.00727881e-10]\n",
       " [ 0.00000000e+00]]"
      ]
     },
     "metadata": {},
     "output_type": "display_data"
    },
    {
     "data": {
      "text/latex": [
       "Quantum object: dims = [[15, 2], [1, 1]], shape = (30, 1), type = ket $ \\\\ \\left(\\begin{matrix}-1.054\\times10^{-10}\\\\0.0\\\\0.0\\\\-1.293\\times10^{-08}\\\\-1.121\\times10^{-06}\\\\\\vdots\\\\0.0\\\\0.0\\\\-6.665\\times10^{-09}\\\\1.585\\times10^{-10}\\\\0.0\\\\\\end{matrix}\\right)$"
      ],
      "text/plain": [
       "Quantum object: dims = [[15, 2], [1, 1]], shape = (30, 1), type = ket\n",
       "Qobj data =\n",
       "[[-1.05435584e-10]\n",
       " [ 0.00000000e+00]\n",
       " [ 0.00000000e+00]\n",
       " [-1.29279477e-08]\n",
       " [-1.12079989e-06]\n",
       " [ 0.00000000e+00]\n",
       " [ 0.00000000e+00]\n",
       " [-5.34489015e-05]\n",
       " [-2.20686062e-03]\n",
       " [ 0.00000000e+00]\n",
       " [ 0.00000000e+00]\n",
       " [-4.20102189e-02]\n",
       " [-7.28852316e-01]\n",
       " [ 0.00000000e+00]\n",
       " [ 0.00000000e+00]\n",
       " [-6.81391852e-01]\n",
       " [ 5.18866837e-02]\n",
       " [ 0.00000000e+00]\n",
       " [ 0.00000000e+00]\n",
       " [-4.17813334e-03]\n",
       " [ 1.71050008e-04]\n",
       " [ 0.00000000e+00]\n",
       " [ 0.00000000e+00]\n",
       " [-7.34066404e-06]\n",
       " [ 2.16831475e-07]\n",
       " [ 0.00000000e+00]\n",
       " [ 0.00000000e+00]\n",
       " [-6.66514110e-09]\n",
       " [ 1.58456141e-10]\n",
       " [ 0.00000000e+00]]"
      ]
     },
     "metadata": {},
     "output_type": "display_data"
    },
    {
     "data": {
      "text/latex": [
       "Quantum object: dims = [[15, 2], [1, 1]], shape = (30, 1), type = ket $ \\\\ \\left(\\begin{matrix}0.0\\\\-2.744\\times10^{-12}\\\\-4.312\\times10^{-10}\\\\0.0\\\\0.0\\\\\\vdots\\\\6.387\\times10^{-06}\\\\-1.876\\times10^{-07}\\\\0.0\\\\0.0\\\\5.715\\times10^{-09}\\\\\\end{matrix}\\right)$"
      ],
      "text/plain": [
       "Quantum object: dims = [[15, 2], [1, 1]], shape = (30, 1), type = ket\n",
       "Qobj data =\n",
       "[[ 0.00000000e+00]\n",
       " [-2.74374404e-12]\n",
       " [-4.31180695e-10]\n",
       " [ 0.00000000e+00]\n",
       " [ 0.00000000e+00]\n",
       " [-3.57170865e-08]\n",
       " [-2.41550201e-06]\n",
       " [ 0.00000000e+00]\n",
       " [ 0.00000000e+00]\n",
       " [-9.31512946e-05]\n",
       " [-3.21194087e-03]\n",
       " [ 0.00000000e+00]\n",
       " [ 0.00000000e+00]\n",
       " [-4.86332216e-02]\n",
       " [-6.79968353e-01]\n",
       " [ 0.00000000e+00]\n",
       " [ 0.00000000e+00]\n",
       " [ 7.29803507e-01]\n",
       " [-5.13796888e-02]\n",
       " [ 0.00000000e+00]\n",
       " [ 0.00000000e+00]\n",
       " [ 3.80387709e-03]\n",
       " [-1.52549096e-04]\n",
       " [ 0.00000000e+00]\n",
       " [ 0.00000000e+00]\n",
       " [ 6.38677694e-06]\n",
       " [-1.87626312e-07]\n",
       " [ 0.00000000e+00]\n",
       " [ 0.00000000e+00]\n",
       " [ 5.71472057e-09]]"
      ]
     },
     "metadata": {},
     "output_type": "display_data"
    },
    {
     "data": {
      "text/latex": [
       "Quantum object: dims = [[15, 2], [1, 1]], shape = (30, 1), type = ket $ \\\\ \\left(\\begin{matrix}0.0\\\\1.692\\times10^{-12}\\\\2.754\\times10^{-10}\\\\0.0\\\\0.0\\\\\\vdots\\\\9.109\\times10^{-06}\\\\-2.805\\times10^{-07}\\\\0.0\\\\0.0\\\\8.954\\times10^{-09}\\\\\\end{matrix}\\right)$"
      ],
      "text/plain": [
       "Quantum object: dims = [[15, 2], [1, 1]], shape = (30, 1), type = ket\n",
       "Qobj data =\n",
       "[[ 0.00000000e+00]\n",
       " [ 1.69175372e-12]\n",
       " [ 2.75404112e-10]\n",
       " [ 0.00000000e+00]\n",
       " [ 0.00000000e+00]\n",
       " [ 2.39121046e-08]\n",
       " [ 1.69505471e-06]\n",
       " [ 0.00000000e+00]\n",
       " [ 0.00000000e+00]\n",
       " [ 7.01511500e-05]\n",
       " [ 2.59600478e-03]\n",
       " [ 0.00000000e+00]\n",
       " [ 0.00000000e+00]\n",
       " [ 4.52917625e-02]\n",
       " [ 7.30207144e-01]\n",
       " [ 0.00000000e+00]\n",
       " [ 0.00000000e+00]\n",
       " [ 6.79463984e-01]\n",
       " [-5.51898292e-02]\n",
       " [ 0.00000000e+00]\n",
       " [ 0.00000000e+00]\n",
       " [ 4.70911142e-03]\n",
       " [-2.02708468e-04]\n",
       " [ 0.00000000e+00]\n",
       " [ 0.00000000e+00]\n",
       " [ 9.10851618e-06]\n",
       " [-2.80491463e-07]\n",
       " [ 0.00000000e+00]\n",
       " [ 0.00000000e+00]\n",
       " [ 8.95449626e-09]]"
      ]
     },
     "metadata": {},
     "output_type": "display_data"
    },
    {
     "data": {
      "text/latex": [
       "Quantum object: dims = [[15, 2], [1, 1]], shape = (30, 1), type = ket $ \\\\ \\left(\\begin{matrix}0.0\\\\0.0\\\\0.0\\\\7.889\\times10^{-12}\\\\8.757\\times10^{-10}\\\\\\vdots\\\\0.0\\\\0.0\\\\-7.605\\times10^{-06}\\\\2.313\\times10^{-07}\\\\0.0\\\\\\end{matrix}\\right)$"
      ],
      "text/plain": [
       "Quantum object: dims = [[15, 2], [1, 1]], shape = (30, 1), type = ket\n",
       "Qobj data =\n",
       "[[ 0.00000000e+00]\n",
       " [ 0.00000000e+00]\n",
       " [ 0.00000000e+00]\n",
       " [ 7.88940188e-12]\n",
       " [ 8.75719332e-10]\n",
       " [ 0.00000000e+00]\n",
       " [ 0.00000000e+00]\n",
       " [ 5.91399441e-08]\n",
       " [ 3.45843478e-06]\n",
       " [ 0.00000000e+00]\n",
       " [ 0.00000000e+00]\n",
       " [ 1.19014036e-04]\n",
       " [ 3.73725222e-03]\n",
       " [ 0.00000000e+00]\n",
       " [ 0.00000000e+00]\n",
       " [ 5.21305345e-02]\n",
       " [ 6.78140798e-01]\n",
       " [ 0.00000000e+00]\n",
       " [ 0.00000000e+00]\n",
       " [-7.31062884e-01]\n",
       " [ 5.40649613e-02]\n",
       " [ 0.00000000e+00]\n",
       " [ 0.00000000e+00]\n",
       " [-4.18253737e-03]\n",
       " [ 1.74858258e-04]\n",
       " [ 0.00000000e+00]\n",
       " [ 0.00000000e+00]\n",
       " [-7.60480668e-06]\n",
       " [ 2.31306669e-07]\n",
       " [ 0.00000000e+00]]"
      ]
     },
     "metadata": {},
     "output_type": "display_data"
    },
    {
     "data": {
      "text/latex": [
       "Quantum object: dims = [[15, 2], [1, 1]], shape = (30, 1), type = ket $ \\\\ \\left(\\begin{matrix}0.0\\\\0.0\\\\0.0\\\\-4.723\\times10^{-12}\\\\-5.443\\times10^{-10}\\\\\\vdots\\\\0.0\\\\0.0\\\\-1.108\\times10^{-05}\\\\3.543\\times10^{-07}\\\\0.0\\\\\\end{matrix}\\right)$"
      ],
      "text/plain": [
       "Quantum object: dims = [[15, 2], [1, 1]], shape = (30, 1), type = ket\n",
       "Qobj data =\n",
       "[[ 0.00000000e+00]\n",
       " [ 0.00000000e+00]\n",
       " [ 0.00000000e+00]\n",
       " [-4.72333141e-12]\n",
       " [-5.44269976e-10]\n",
       " [ 0.00000000e+00]\n",
       " [ 0.00000000e+00]\n",
       " [-3.86363286e-08]\n",
       " [-2.37500824e-06]\n",
       " [ 0.00000000e+00]\n",
       " [ 0.00000000e+00]\n",
       " [-8.80867368e-05]\n",
       " [-2.98139789e-03]\n",
       " [ 0.00000000e+00]\n",
       " [ 0.00000000e+00]\n",
       " [-4.83353494e-02]\n",
       " [-7.31464520e-01]\n",
       " [ 0.00000000e+00]\n",
       " [ 0.00000000e+00]\n",
       " [-6.77631361e-01]\n",
       " [ 5.83319265e-02]\n",
       " [ 0.00000000e+00]\n",
       " [ 0.00000000e+00]\n",
       " [-5.24611776e-03]\n",
       " [ 2.36429019e-04]\n",
       " [ 0.00000000e+00]\n",
       " [ 0.00000000e+00]\n",
       " [-1.10832103e-05]\n",
       " [ 3.54338194e-07]\n",
       " [ 0.00000000e+00]]"
      ]
     },
     "metadata": {},
     "output_type": "display_data"
    },
    {
     "data": {
      "text/latex": [
       "Quantum object: dims = [[15, 2], [1, 1]], shape = (30, 1), type = ket $ \\\\ \\left(\\begin{matrix}0.0\\\\0.0\\\\0.0\\\\0.0\\\\0.0\\\\\\vdots\\\\-0.005\\\\1.980\\times10^{-04}\\\\0.0\\\\0.0\\\\-8.907\\times10^{-06}\\\\\\end{matrix}\\right)$"
      ],
      "text/plain": [
       "Quantum object: dims = [[15, 2], [1, 1]], shape = (30, 1), type = ket\n",
       "Qobj data =\n",
       "[[ 0.00000000e+00]\n",
       " [ 0.00000000e+00]\n",
       " [ 0.00000000e+00]\n",
       " [ 0.00000000e+00]\n",
       " [ 0.00000000e+00]\n",
       " [ 1.70009110e-11]\n",
       " [ 1.53916315e-09]\n",
       " [ 0.00000000e+00]\n",
       " [ 0.00000000e+00]\n",
       " [ 8.98897222e-08]\n",
       " [ 4.69487647e-06]\n",
       " [ 0.00000000e+00]\n",
       " [ 0.00000000e+00]\n",
       " [ 1.47161712e-04]\n",
       " [ 4.26866622e-03]\n",
       " [ 0.00000000e+00]\n",
       " [ 0.00000000e+00]\n",
       " [ 5.54348982e-02]\n",
       " [ 6.76392475e-01]\n",
       " [ 0.00000000e+00]\n",
       " [ 0.00000000e+00]\n",
       " [-7.32240555e-01]\n",
       " [ 5.66118381e-02]\n",
       " [ 0.00000000e+00]\n",
       " [ 0.00000000e+00]\n",
       " [-4.55846251e-03]\n",
       " [ 1.97999396e-04]\n",
       " [ 0.00000000e+00]\n",
       " [ 0.00000000e+00]\n",
       " [-8.90680557e-06]]"
      ]
     },
     "metadata": {},
     "output_type": "display_data"
    },
    {
     "data": {
      "text/latex": [
       "Quantum object: dims = [[15, 2], [1, 1]], shape = (30, 1), type = ket $ \\\\ \\left(\\begin{matrix}0.0\\\\0.0\\\\0.0\\\\0.0\\\\0.0\\\\\\vdots\\\\0.006\\\\-2.722\\times10^{-04}\\\\0.0\\\\0.0\\\\1.325\\times10^{-05}\\\\\\end{matrix}\\right)$"
      ],
      "text/plain": [
       "Quantum object: dims = [[15, 2], [1, 1]], shape = (30, 1), type = ket\n",
       "Qobj data =\n",
       "[[ 0.00000000e+00]\n",
       " [ 0.00000000e+00]\n",
       " [ 0.00000000e+00]\n",
       " [ 0.00000000e+00]\n",
       " [ 0.00000000e+00]\n",
       " [ 9.89861754e-12]\n",
       " [ 9.32195187e-10]\n",
       " [ 0.00000000e+00]\n",
       " [ 0.00000000e+00]\n",
       " [ 5.73805709e-08]\n",
       " [ 3.15877046e-06]\n",
       " [ 0.00000000e+00]\n",
       " [ 0.00000000e+00]\n",
       " [ 1.07144920e-04]\n",
       " [ 3.36346201e-03]\n",
       " [ 0.00000000e+00]\n",
       " [ 0.00000000e+00]\n",
       " [ 5.11846658e-02]\n",
       " [ 7.32640307e-01]\n",
       " [ 0.00000000e+00]\n",
       " [ 0.00000000e+00]\n",
       " [ 6.75878074e-01]\n",
       " [-6.13370076e-02]\n",
       " [ 0.00000000e+00]\n",
       " [ 0.00000000e+00]\n",
       " [ 5.78900971e-03]\n",
       " [-2.72164492e-04]\n",
       " [ 0.00000000e+00]\n",
       " [ 0.00000000e+00]\n",
       " [ 1.32471025e-05]]"
      ]
     },
     "metadata": {},
     "output_type": "display_data"
    },
    {
     "data": {
      "text/latex": [
       "Quantum object: dims = [[15, 2], [1, 1]], shape = (30, 1), type = ket $ \\\\ \\left(\\begin{matrix}0.0\\\\0.0\\\\0.0\\\\0.0\\\\0.0\\\\\\vdots\\\\0.0\\\\0.0\\\\0.005\\\\-2.214\\times10^{-04}\\\\0.0\\\\\\end{matrix}\\right)$"
      ],
      "text/plain": [
       "Quantum object: dims = [[15, 2], [1, 1]], shape = (30, 1), type = ket\n",
       "Qobj data =\n",
       "[[ 0.00000000e+00]\n",
       " [ 0.00000000e+00]\n",
       " [ 0.00000000e+00]\n",
       " [ 0.00000000e+00]\n",
       " [ 0.00000000e+00]\n",
       " [ 0.00000000e+00]\n",
       " [ 0.00000000e+00]\n",
       " [-3.15095513e-11]\n",
       " [-2.46799404e-09]\n",
       " [ 0.00000000e+00]\n",
       " [ 0.00000000e+00]\n",
       " [-1.28742539e-07]\n",
       " [-6.12977985e-06]\n",
       " [ 0.00000000e+00]\n",
       " [ 0.00000000e+00]\n",
       " [-1.77512125e-04]\n",
       " [-4.80605660e-03]\n",
       " [ 0.00000000e+00]\n",
       " [ 0.00000000e+00]\n",
       " [-5.85781674e-02]\n",
       " [-6.74711399e-01]\n",
       " [ 0.00000000e+00]\n",
       " [ 0.00000000e+00]\n",
       " [ 7.33348504e-01]\n",
       " [-5.90389340e-02]\n",
       " [ 0.00000000e+00]\n",
       " [ 0.00000000e+00]\n",
       " [ 4.93180068e-03]\n",
       " [-2.21445322e-04]\n",
       " [ 0.00000000e+00]]"
      ]
     },
     "metadata": {},
     "output_type": "display_data"
    },
    {
     "data": {
      "text/latex": [
       "Quantum object: dims = [[15, 2], [1, 1]], shape = (30, 1), type = ket $ \\\\ \\left(\\begin{matrix}0.0\\\\0.0\\\\0.0\\\\0.0\\\\0.0\\\\\\vdots\\\\0.0\\\\0.0\\\\-0.006\\\\3.091\\times10^{-04}\\\\0.0\\\\\\end{matrix}\\right)$"
      ],
      "text/plain": [
       "Quantum object: dims = [[15, 2], [1, 1]], shape = (30, 1), type = ket\n",
       "Qobj data =\n",
       "[[ 0.00000000e+00]\n",
       " [ 0.00000000e+00]\n",
       " [ 0.00000000e+00]\n",
       " [ 0.00000000e+00]\n",
       " [ 0.00000000e+00]\n",
       " [ 0.00000000e+00]\n",
       " [ 0.00000000e+00]\n",
       " [-1.78659819e-11]\n",
       " [-1.45841110e-09]\n",
       " [ 0.00000000e+00]\n",
       " [ 0.00000000e+00]\n",
       " [-8.03896014e-08]\n",
       " [-4.04457184e-06]\n",
       " [ 0.00000000e+00]\n",
       " [ 0.00000000e+00]\n",
       " [-1.27235479e-04]\n",
       " [-3.74251097e-03]\n",
       " [ 0.00000000e+00]\n",
       " [ 0.00000000e+00]\n",
       " [-5.38715074e-02]\n",
       " [-7.33746465e-01]\n",
       " [ 0.00000000e+00]\n",
       " [ 0.00000000e+00]\n",
       " [-6.74192121e-01]\n",
       " [ 6.42237241e-02]\n",
       " [ 0.00000000e+00]\n",
       " [ 0.00000000e+00]\n",
       " [-6.33757944e-03]\n",
       " [ 3.09084059e-04]\n",
       " [ 0.00000000e+00]]"
      ]
     },
     "metadata": {},
     "output_type": "display_data"
    },
    {
     "data": {
      "text/latex": [
       "Quantum object: dims = [[15, 2], [1, 1]], shape = (30, 1), type = ket $ \\\\ \\left(\\begin{matrix}0.0\\\\0.0\\\\0.0\\\\0.0\\\\0.0\\\\\\vdots\\\\-0.734\\\\0.061\\\\0.0\\\\0.0\\\\-0.005\\\\\\end{matrix}\\right)$"
      ],
      "text/plain": [
       "Quantum object: dims = [[15, 2], [1, 1]], shape = (30, 1), type = ket\n",
       "Qobj data =\n",
       "[[ 0.00000000e+00]\n",
       " [ 0.00000000e+00]\n",
       " [ 0.00000000e+00]\n",
       " [ 0.00000000e+00]\n",
       " [ 0.00000000e+00]\n",
       " [ 0.00000000e+00]\n",
       " [ 0.00000000e+00]\n",
       " [ 0.00000000e+00]\n",
       " [ 0.00000000e+00]\n",
       " [ 5.30135747e-11]\n",
       " [ 3.71032235e-09]\n",
       " [ 0.00000000e+00]\n",
       " [ 0.00000000e+00]\n",
       " [ 1.76454073e-07]\n",
       " [ 7.76793212e-06]\n",
       " [ 0.00000000e+00]\n",
       " [ 0.00000000e+00]\n",
       " [ 2.09998372e-04]\n",
       " [ 5.34930314e-03]\n",
       " [ 0.00000000e+00]\n",
       " [ 0.00000000e+00]\n",
       " [ 6.15844284e-02]\n",
       " [ 6.73088930e-01]\n",
       " [ 0.00000000e+00]\n",
       " [ 0.00000000e+00]\n",
       " [-7.34395780e-01]\n",
       " [ 6.13591412e-02]\n",
       " [ 0.00000000e+00]\n",
       " [ 0.00000000e+00]\n",
       " [-5.28070671e-03]]"
      ]
     },
     "metadata": {},
     "output_type": "display_data"
    },
    {
     "data": {
      "text/latex": [
       "Quantum object: dims = [[15, 2], [1, 1]], shape = (30, 1), type = ket $ \\\\ \\left(\\begin{matrix}0.0\\\\0.0\\\\0.0\\\\0.0\\\\0.0\\\\\\vdots\\\\-0.673\\\\0.067\\\\0.0\\\\0.0\\\\-0.007\\\\\\end{matrix}\\right)$"
      ],
      "text/plain": [
       "Quantum object: dims = [[15, 2], [1, 1]], shape = (30, 1), type = ket\n",
       "Qobj data =\n",
       "[[ 0.00000000e+00]\n",
       " [ 0.00000000e+00]\n",
       " [ 0.00000000e+00]\n",
       " [ 0.00000000e+00]\n",
       " [ 0.00000000e+00]\n",
       " [ 0.00000000e+00]\n",
       " [ 0.00000000e+00]\n",
       " [ 0.00000000e+00]\n",
       " [ 0.00000000e+00]\n",
       " [-2.93061644e-11]\n",
       " [-2.14155134e-09]\n",
       " [ 0.00000000e+00]\n",
       " [ 0.00000000e+00]\n",
       " [-1.07882187e-07]\n",
       " [-5.03076641e-06]\n",
       " [ 0.00000000e+00]\n",
       " [ 0.00000000e+00]\n",
       " [-1.48283225e-04]\n",
       " [-4.11878629e-03]\n",
       " [ 0.00000000e+00]\n",
       " [ 0.00000000e+00]\n",
       " [-5.64198122e-02]\n",
       " [-7.34791720e-01]\n",
       " [ 0.00000000e+00]\n",
       " [ 0.00000000e+00]\n",
       " [-6.72565628e-01]\n",
       " [ 6.70032656e-02]\n",
       " [ 0.00000000e+00]\n",
       " [ 0.00000000e+00]\n",
       " [-6.85457384e-03]]"
      ]
     },
     "metadata": {},
     "output_type": "display_data"
    },
    {
     "data": {
      "text/latex": [
       "Quantum object: dims = [[15, 2], [1, 1]], shape = (30, 1), type = ket $ \\\\ \\left(\\begin{matrix}0.0\\\\0.0\\\\0.0\\\\0.0\\\\0.0\\\\\\vdots\\\\0.0\\\\0.0\\\\-0.735\\\\0.063\\\\0.0\\\\\\end{matrix}\\right)$"
      ],
      "text/plain": [
       "Quantum object: dims = [[15, 2], [1, 1]], shape = (30, 1), type = ket\n",
       "Qobj data =\n",
       "[[ 0.00000000e+00]\n",
       " [ 0.00000000e+00]\n",
       " [ 0.00000000e+00]\n",
       " [ 0.00000000e+00]\n",
       " [ 0.00000000e+00]\n",
       " [ 0.00000000e+00]\n",
       " [ 0.00000000e+00]\n",
       " [ 0.00000000e+00]\n",
       " [ 1.19106703e-12]\n",
       " [ 0.00000000e+00]\n",
       " [ 0.00000000e+00]\n",
       " [ 8.32896432e-11]\n",
       " [ 5.31646477e-09]\n",
       " [ 0.00000000e+00]\n",
       " [ 0.00000000e+00]\n",
       " [ 2.33791885e-07]\n",
       " [ 9.61520627e-06]\n",
       " [ 0.00000000e+00]\n",
       " [ 0.00000000e+00]\n",
       " [ 2.44600233e-04]\n",
       " [ 5.89924666e-03]\n",
       " [ 0.00000000e+00]\n",
       " [ 0.00000000e+00]\n",
       " [ 6.44852307e-02]\n",
       " [ 6.71677540e-01]\n",
       " [ 0.00000000e+00]\n",
       " [ 0.00000000e+00]\n",
       " [-7.35307288e-01]\n",
       " [ 6.30814403e-02]\n",
       " [ 0.00000000e+00]]"
      ]
     },
     "metadata": {},
     "output_type": "display_data"
    },
    {
     "data": {
      "text/latex": [
       "Quantum object: dims = [[15, 2], [1, 1]], shape = (30, 1), type = ket $ \\\\ \\left(\\begin{matrix}0.0\\\\0.0\\\\0.0\\\\0.0\\\\0.0\\\\\\vdots\\\\0.0\\\\0.0\\\\-0.671\\\\0.069\\\\0.0\\\\\\end{matrix}\\right)$"
      ],
      "text/plain": [
       "Quantum object: dims = [[15, 2], [1, 1]], shape = (30, 1), type = ket\n",
       "Qobj data =\n",
       "[[ 0.00000000e+00]\n",
       " [ 0.00000000e+00]\n",
       " [ 0.00000000e+00]\n",
       " [ 0.00000000e+00]\n",
       " [ 0.00000000e+00]\n",
       " [ 0.00000000e+00]\n",
       " [ 0.00000000e+00]\n",
       " [ 0.00000000e+00]\n",
       " [ 0.00000000e+00]\n",
       " [ 0.00000000e+00]\n",
       " [ 0.00000000e+00]\n",
       " [-4.49148286e-11]\n",
       " [-2.99867099e-09]\n",
       " [ 0.00000000e+00]\n",
       " [ 0.00000000e+00]\n",
       " [-1.40008236e-07]\n",
       " [-6.11381278e-06]\n",
       " [ 0.00000000e+00]\n",
       " [ 0.00000000e+00]\n",
       " [-1.70172475e-04]\n",
       " [-4.49121660e-03]\n",
       " [ 0.00000000e+00]\n",
       " [ 0.00000000e+00]\n",
       " [-5.88342166e-02]\n",
       " [-7.35642054e-01]\n",
       " [ 0.00000000e+00]\n",
       " [ 0.00000000e+00]\n",
       " [-6.71264882e-01]\n",
       " [ 6.89388225e-02]\n",
       " [ 0.00000000e+00]]"
      ]
     },
     "metadata": {},
     "output_type": "display_data"
    },
    {
     "data": {
      "text/latex": [
       "Quantum object: dims = [[15, 2], [1, 1]], shape = (30, 1), type = ket $ \\\\ \\left(\\begin{matrix}0.0\\\\0.0\\\\0.0\\\\0.0\\\\0.0\\\\\\vdots\\\\-0.069\\\\-0.688\\\\0.0\\\\0.0\\\\0.722\\\\\\end{matrix}\\right)$"
      ],
      "text/plain": [
       "Quantum object: dims = [[15, 2], [1, 1]], shape = (30, 1), type = ket\n",
       "Qobj data =\n",
       "[[ 0.00000000e+00]\n",
       " [ 0.00000000e+00]\n",
       " [ 0.00000000e+00]\n",
       " [ 0.00000000e+00]\n",
       " [ 0.00000000e+00]\n",
       " [ 0.00000000e+00]\n",
       " [ 0.00000000e+00]\n",
       " [ 0.00000000e+00]\n",
       " [ 0.00000000e+00]\n",
       " [ 0.00000000e+00]\n",
       " [-1.96045264e-12]\n",
       " [ 0.00000000e+00]\n",
       " [ 0.00000000e+00]\n",
       " [-1.25181842e-10]\n",
       " [-7.39975091e-09]\n",
       " [ 0.00000000e+00]\n",
       " [ 0.00000000e+00]\n",
       " [-3.04498488e-07]\n",
       " [-1.18110211e-05]\n",
       " [ 0.00000000e+00]\n",
       " [ 0.00000000e+00]\n",
       " [-2.85190233e-04]\n",
       " [-6.56115685e-03]\n",
       " [ 0.00000000e+00]\n",
       " [ 0.00000000e+00]\n",
       " [-6.87346066e-02]\n",
       " [-6.88258616e-01]\n",
       " [ 0.00000000e+00]\n",
       " [ 0.00000000e+00]\n",
       " [ 7.22172072e-01]]"
      ]
     },
     "metadata": {},
     "output_type": "display_data"
    },
    {
     "data": {
      "text/latex": [
       "Quantum object: dims = [[15, 2], [1, 1]], shape = (30, 1), type = ket $ \\\\ \\left(\\begin{matrix}0.0\\\\0.0\\\\0.0\\\\0.0\\\\0.0\\\\\\vdots\\\\-0.059\\\\-0.720\\\\0.0\\\\0.0\\\\-0.692\\\\\\end{matrix}\\right)$"
      ],
      "text/plain": [
       "Quantum object: dims = [[15, 2], [1, 1]], shape = (30, 1), type = ket\n",
       "Qobj data =\n",
       "[[ 0.00000000e+00]\n",
       " [ 0.00000000e+00]\n",
       " [ 0.00000000e+00]\n",
       " [ 0.00000000e+00]\n",
       " [ 0.00000000e+00]\n",
       " [ 0.00000000e+00]\n",
       " [ 0.00000000e+00]\n",
       " [ 0.00000000e+00]\n",
       " [ 0.00000000e+00]\n",
       " [ 0.00000000e+00]\n",
       " [ 0.00000000e+00]\n",
       " [ 0.00000000e+00]\n",
       " [ 0.00000000e+00]\n",
       " [-6.28386665e-11]\n",
       " [-3.89173271e-09]\n",
       " [ 0.00000000e+00]\n",
       " [ 0.00000000e+00]\n",
       " [-1.70410851e-07]\n",
       " [-7.03393772e-06]\n",
       " [ 0.00000000e+00]\n",
       " [ 0.00000000e+00]\n",
       " [-1.86445173e-04]\n",
       " [-4.70940244e-03]\n",
       " [ 0.00000000e+00]\n",
       " [ 0.00000000e+00]\n",
       " [-5.94943418e-02]\n",
       " [-7.19753835e-01]\n",
       " [ 0.00000000e+00]\n",
       " [ 0.00000000e+00]\n",
       " [-6.91659329e-01]]"
      ]
     },
     "metadata": {},
     "output_type": "display_data"
    },
    {
     "data": {
      "text/latex": [
       "Quantum object: dims = [[15, 2], [1, 1]], shape = (30, 1), type = ket $ \\\\ \\left(\\begin{matrix}0.0\\\\0.0\\\\0.0\\\\0.0\\\\0.0\\\\\\vdots\\\\0.0\\\\0.0\\\\-0.093\\\\-0.996\\\\0.0\\\\\\end{matrix}\\right)$"
      ],
      "text/plain": [
       "Quantum object: dims = [[15, 2], [1, 1]], shape = (30, 1), type = ket\n",
       "Qobj data =\n",
       "[[ 0.00000000e+00]\n",
       " [ 0.00000000e+00]\n",
       " [ 0.00000000e+00]\n",
       " [ 0.00000000e+00]\n",
       " [ 0.00000000e+00]\n",
       " [ 0.00000000e+00]\n",
       " [ 0.00000000e+00]\n",
       " [ 0.00000000e+00]\n",
       " [ 0.00000000e+00]\n",
       " [ 0.00000000e+00]\n",
       " [ 0.00000000e+00]\n",
       " [ 0.00000000e+00]\n",
       " [-2.84382792e-12]\n",
       " [ 0.00000000e+00]\n",
       " [ 0.00000000e+00]\n",
       " [-1.72322309e-10]\n",
       " [-9.76667142e-09]\n",
       " [ 0.00000000e+00]\n",
       " [ 0.00000000e+00]\n",
       " [-3.91643084e-07]\n",
       " [-1.48958630e-05]\n",
       " [ 0.00000000e+00]\n",
       " [ 0.00000000e+00]\n",
       " [-3.60499226e-04]\n",
       " [-8.34751079e-03]\n",
       " [ 0.00000000e+00]\n",
       " [ 0.00000000e+00]\n",
       " [-9.30707409e-02]\n",
       " [-9.95624440e-01]\n",
       " [ 0.00000000e+00]]"
      ]
     },
     "metadata": {},
     "output_type": "display_data"
    }
   ],
   "source": [
    "display_eigenstates(H)"
   ]
  },
  {
   "cell_type": "markdown",
   "id": "ea6a6939",
   "metadata": {},
   "source": [
    "## Solve the Schrodinger equation\n",
    "\n",
    "- create the initial state of the system (use the state with no photons and the spin system in its excited state)\n",
    "- evolve the system for some time, saving the result.\n",
    "\n",
    "If you need to remind yourself of how sesolve, remember that you can type `qutip.sesolve?` into a notebook cell to bring up the documentation."
   ]
  },
  {
   "cell_type": "code",
   "execution_count": 11,
   "id": "0a8a4c5c",
   "metadata": {
    "tags": [
     "hide-cell"
    ]
   },
   "outputs": [
    {
     "data": {
      "text/latex": [
       "Quantum object: dims = [[15, 2], [1, 1]], shape = (30, 1), type = ket $ \\\\ \\left(\\begin{matrix}1.0\\\\0.0\\\\0.0\\\\0.0\\\\0.0\\\\\\vdots\\\\0.0\\\\0.0\\\\0.0\\\\0.0\\\\0.0\\\\\\end{matrix}\\right)$"
      ],
      "text/plain": [
       "Quantum object: dims = [[15, 2], [1, 1]], shape = (30, 1), type = ket\n",
       "Qobj data =\n",
       "[[1.]\n",
       " [0.]\n",
       " [0.]\n",
       " [0.]\n",
       " [0.]\n",
       " [0.]\n",
       " [0.]\n",
       " [0.]\n",
       " [0.]\n",
       " [0.]\n",
       " [0.]\n",
       " [0.]\n",
       " [0.]\n",
       " [0.]\n",
       " [0.]\n",
       " [0.]\n",
       " [0.]\n",
       " [0.]\n",
       " [0.]\n",
       " [0.]\n",
       " [0.]\n",
       " [0.]\n",
       " [0.]\n",
       " [0.]\n",
       " [0.]\n",
       " [0.]\n",
       " [0.]\n",
       " [0.]\n",
       " [0.]\n",
       " [0.]]"
      ]
     },
     "execution_count": 11,
     "metadata": {},
     "output_type": "execute_result"
    }
   ],
   "source": [
    "# initial state\n",
    "psi0 = qutip.basis([N, 2], [0, 0])  # start with an excited atom\n",
    "psi0"
   ]
  },
  {
   "cell_type": "code",
   "execution_count": 12,
   "id": "cb3ff97e",
   "metadata": {
    "tags": [
     "hide-cell"
    ]
   },
   "outputs": [],
   "source": [
    "# Solve using sesolve\n",
    "tlist = np.linspace(0, 25, 101)\n",
    "result = qutip.sesolve(H, psi0, tlist)"
   ]
  },
  {
   "cell_type": "markdown",
   "id": "424781ba",
   "metadata": {},
   "source": [
    "## Visualise the evolution\n",
    "\n",
    "- create expectation operators for observing the state of the system.\n",
    "- add these to sesolve\n",
    "- plot the expectation values together on a set of axes\n",
    "- change the value of g and see how it affects the period\n",
    "\n",
    "Two good expectation operators to use are the projectors on the light and matter sub-systems."
   ]
  },
  {
   "cell_type": "code",
   "execution_count": 13,
   "id": "58ae1fe1",
   "metadata": {
    "tags": [
     "hide-cell"
    ]
   },
   "outputs": [],
   "source": [
    "# Operators to determine the expectation values of:\n",
    "eop_a = a.dag() * a  # light\n",
    "eop_sm = sm.dag() * sm  # matter"
   ]
  },
  {
   "cell_type": "code",
   "execution_count": 14,
   "id": "e06cd8f5",
   "metadata": {
    "tags": [
     "hide-cell"
    ]
   },
   "outputs": [],
   "source": [
    "# Solve using sesolve\n",
    "tlist = np.linspace(0, 25, 101)\n",
    "result = qutip.sesolve(H, psi0, tlist, e_ops=[eop_a, eop_sm])"
   ]
  },
  {
   "cell_type": "code",
   "execution_count": 15,
   "id": "c909a17c",
   "metadata": {
    "tags": [
     "hide-cell"
    ]
   },
   "outputs": [
    {
     "data": {
      "image/png": "[encoded data removed]",
      "text/plain": [
       "<Figure size 640x480 with 1 Axes>"
      ]
     },
     "metadata": {
      "filenames": {
       "image/png": "/home/simon/repos/elf/hodgestar/talks/qutip-kigali-2022/tutbok/_build/jupyter_execute/tutorials/03-qutip-jcm-i_23_0.png"
      }
     },
     "output_type": "display_data"
    }
   ],
   "source": [
    "plt.plot(tlist, result.expect[0], label=\"Light\")\n",
    "plt.plot(tlist, result.expect[1], label=\"matter\")\n",
    "plt.legend();"
   ]
  },
  {
   "cell_type": "code",
   "execution_count": 16,
   "id": "3374ac06",
   "metadata": {
    "tags": [
     "hide-cell"
    ]
   },
   "outputs": [
    {
     "data": {
      "image/png": "[encoded data removed]",
      "text/plain": [
       "<Figure size 640x480 with 1 Axes>"
      ]
     },
     "metadata": {
      "filenames": {
       "image/png": "/home/simon/repos/elf/hodgestar/talks/qutip-kigali-2022/tutbok/_build/jupyter_execute/tutorials/03-qutip-jcm-i_24_0.png"
      }
     },
     "output_type": "display_data"
    }
   ],
   "source": [
    "# vary g\n",
    "H = jcm_h(wc, wa, 0.1 * 2 * np.pi, N, H_atom)\n",
    "\n",
    "tlist = np.linspace(0, 25, 101)\n",
    "\n",
    "result = qutip.sesolve(H, psi0, tlist, e_ops=[eop_a, eop_sm])\n",
    "\n",
    "plt.plot(tlist, result.expect[0], label=\"Light\")\n",
    "plt.plot(tlist, result.expect[1], label=\"matter\")\n",
    "plt.legend();"
   ]
  },
  {
   "cell_type": "markdown",
   "id": "93ddf5fc",
   "metadata": {},
   "source": [
    "## Compare the RWA and non-RWA\n",
    "\n",
    "- construct another Hamiltonian that uses the RWA\n",
    "- evolve the system under the RWA Hamiltonian.\n",
    "- add the results to the plot\n",
    "- experiment with parameters to determine where the RWA non-RWA diverges"
   ]
  },
  {
   "cell_type": "code",
   "execution_count": 17,
   "id": "0239e65b",
   "metadata": {
    "tags": [
     "hide-cell"
    ]
   },
   "outputs": [],
   "source": [
    "# Construct the RWA Hamiltonian\n",
    "H = jcm_h(wc, wa, g, N, H_atom)\n",
    "H_RWA = jcm_rwa_h(wc, wa, g, N, H_atom)"
   ]
  },
  {
   "cell_type": "code",
   "execution_count": 18,
   "id": "2c728891",
   "metadata": {
    "tags": [
     "hide-cell"
    ]
   },
   "outputs": [
    {
     "data": {
      "image/png": "[encoded data removed]",
      "text/plain": [
       "<Figure size 640x480 with 1 Axes>"
      ]
     },
     "metadata": {
      "filenames": {
       "image/png": "/home/simon/repos/elf/hodgestar/talks/qutip-kigali-2022/tutbok/_build/jupyter_execute/tutorials/03-qutip-jcm-i_27_0.png"
      }
     },
     "output_type": "display_data"
    }
   ],
   "source": [
    "# Hmm. The results look the same.\n",
    "tlist = np.linspace(0, 25, 101)\n",
    "\n",
    "result = qutip.sesolve(H, psi0, tlist, e_ops=[eop_a, eop_sm])\n",
    "plt.plot(tlist, result.expect[0], label=\"Light\")\n",
    "plt.plot(tlist, result.expect[1], label=\"matter\")\n",
    "\n",
    "result_rwa = qutip.sesolve(H_RWA, psi0, tlist, e_ops=[eop_a, eop_sm])\n",
    "plt.plot(tlist, result_rwa.expect[0], label=\"Light (RWA)\")\n",
    "plt.plot(tlist, result_rwa.expect[1], label=\"matter (RWA)\")\n",
    "\n",
    "plt.legend();"
   ]
  },
  {
   "cell_type": "code",
   "execution_count": 19,
   "id": "a0c88f51",
   "metadata": {
    "tags": [
     "hide-cell"
    ]
   },
   "outputs": [
    {
     "data": {
      "image/png": "[encoded data removed]",
      "text/plain": [
       "<Figure size 640x480 with 1 Axes>"
      ]
     },
     "metadata": {
      "filenames": {
       "image/png": "/home/simon/repos/elf/hodgestar/talks/qutip-kigali-2022/tutbok/_build/jupyter_execute/tutorials/03-qutip-jcm-i_28_0.png"
      }
     },
     "output_type": "display_data"
    }
   ],
   "source": [
    "# Try with different frequencies w_c and w_a:\n",
    "tlist = np.linspace(0, 25, 101)\n",
    "f = 0.9\n",
    "\n",
    "H = jcm_h(wc, f * wa, g, N, H_atom)\n",
    "H_RWA = jcm_rwa_h(wc, f * wa, g, N, H_atom)\n",
    "\n",
    "result = qutip.sesolve(H, psi0, tlist, e_ops=[eop_a, eop_sm])\n",
    "plt.plot(tlist, result.expect[0], label=\"Light\")\n",
    "plt.plot(tlist, result.expect[1], label=\"matter\")\n",
    "\n",
    "result_rwa = qutip.sesolve(H_RWA, psi0, tlist, e_ops=[eop_a, eop_sm])\n",
    "plt.plot(tlist, result_rwa.expect[0], label=\"Light (RWA)\")\n",
    "plt.plot(tlist, result_rwa.expect[1], label=\"matter (RWA)\")\n",
    "\n",
    "plt.legend();"
   ]
  },
  {
   "cell_type": "markdown",
   "id": "9cbcd549",
   "metadata": {},
   "source": [
    "## Links for further study\n",
    "\n",
    "There is an excellent paper [The Jaynes-Cummings model and its descendants](https://arxiv.org/abs/2202.00330) by Larson and Mavrogordatos, that reviews the Jaynes-Cummings model and its many variations. You can try reading this paper and implementing some of the simpler variants in QuTiP.\n",
    "\n",
    "If you do, please consider polishing your notebook, adding good explanations to it and submitting it as an example for others by opening a pull request for it at https://github.com/qutip/qutip-tutorials/.\n",
    "\n",
    "This paper covers a *lot* of work, so don't expect to understand all of it quickly. Start with the earlier sections. We will explore the Jaynes-Cumming model more in the remaining tutorials."
   ]
  }
 ],
 "metadata": {
  "jupytext": {
   "formats": "md:myst,ipynb",
   "text_representation": {
    "extension": ".md",
    "format_name": "myst",
    "format_version": 0.13,
    "jupytext_version": "1.14.1"
   }
  },
  "kernelspec": {
   "display_name": "Python 3 (ipykernel)",
   "language": "python",
   "name": "python3"
  },
  "language_info": {
   "codemirror_mode": {
    "name": "ipython",
    "version": 3
   },
   "file_extension": ".py",
   "mimetype": "text/x-python",
   "name": "python",
   "nbconvert_exporter": "python",
   "pygments_lexer": "ipython3",
   "version": "3.10.0"
  },
  "source_map": [
   13,
   17,
   22,
   54,
   63,
   67,
   72,
   77,
   81,
   95,
   108,
   119,
   136,
   146,
   158,
   165,
   172,
   176,
   185,
   193,
   199,
   210,
   218,
   226,
   234,
   247,
   256,
   264,
   281,
   300
  ]
 },
 "nbformat": 4,
 "nbformat_minor": 5
}