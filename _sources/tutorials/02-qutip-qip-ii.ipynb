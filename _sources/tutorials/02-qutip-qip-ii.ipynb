{
 "cells": [
  {
   "cell_type": "markdown",
   "id": "6716caee",
   "metadata": {},
   "source": [
    "# 02: Quantum Information Processing in QuTiP II"
   ]
  },
  {
   "cell_type": "markdown",
   "id": "acf6da57",
   "metadata": {},
   "source": [
    "In the previous tutorial, we looked at how to create and run circuits. In this tutorial we'll look at how circuits are implemented on real quantum devices and how we can use QuTiP to simulate the *quantum hardware* itself.\n",
    "\n",
    "Quite a few steps are needed to translate a quantum circuit into actions for robots to perform on the real apparatus:\n",
    "\n",
    "1. Optimize the assignment of qubits to the device.\n",
    "2. Add swap gates to allow operations between device qubits that cannot directly interact.\n",
    "3. Replace the circuit gates with gates the device can perform.\n",
    "4. Translate the gates into control pulses for the device.\n",
    "5. Send the pulses to the device.\n",
    "\n",
    "The steps above are just one example of a translation process. The details will vary between different kinds of quantum hardware. In a neutral atom device, one would choose how to layout the neutral atoms for the circuit. The pulses themselves will need to be optimized for the circuit. Some pulses will be performed simultaneously. Others will need to be performed one after the other. Pulses and gates could be combined. Extra pulses might be added to perform dynamic decoupling.\n",
    "\n",
    "QuTiP's QIP module provides the means to perform all of the steps above and to run the resulting pulses on a *simulated* hardware device.\n",
    "\n",
    "A simulated hardware device is a time-dependented Hamiltonian (or Liouvillian) that describes the physics of the system (e.g. interactions between atoms or qubits) and the actions of the control pulses. Typically the control pulses define the time-dependent amplitude of an oscillating term in the Hamiltonian.\n",
    "\n",
    "Let's try all the steps out in QuTiP."
   ]
  },
  {
   "cell_type": "markdown",
   "id": "bc1d1e23",
   "metadata": {},
   "source": [
    "## Tasks\n",
    "\n",
    "- [Import qutip and qutip.qip](#imports)\n",
    "- [Spin chain qubits](#spin-chain-qubits)\n",
    "- [Create a simple circuit to translate](#create-a-simple-circuit-to-translate)\n",
    "- [Add swap gates by hand](#add-swap-gates-by-hand)\n",
    "- [Add swap gates automatically](#add-swap-gates-automatically)\n",
    "- [Translate to native gates](#translate-to-native-gates)\n",
    "- [Turn gates into pulses](#turn-gates-into-pulses)\n",
    "- [Run the pulses on the device](#run-the-pulses-on-the-device)"
   ]
  },
  {
   "cell_type": "markdown",
   "id": "8e0c78a8",
   "metadata": {},
   "source": [
    "## Imports"
   ]
  },
  {
   "cell_type": "code",
   "execution_count": 1,
   "id": "bb246869",
   "metadata": {},
   "outputs": [],
   "source": [
    "%matplotlib inline\n",
    "import matplotlib.pyplot as plt"
   ]
  },
  {
   "cell_type": "code",
   "execution_count": 2,
   "id": "bd217041",
   "metadata": {},
   "outputs": [],
   "source": [
    "import qutip\n",
    "from qutip_qip.circuit import QubitCircuit\n",
    "from qutip_qip.device import LinearSpinChain\n",
    "import numpy as np\n",
    "import re"
   ]
  },
  {
   "cell_type": "code",
   "execution_count": 3,
   "id": "6118e7f9",
   "metadata": {},
   "outputs": [],
   "source": [
    "orig_latex_code = QubitCircuit.latex_code\n",
    "\n",
    "def fix_swap(self):\n",
    "    tex = orig_latex_code(self)\n",
    "    tex = re.sub(r\"( \\\\qwx\\[)(\\d+)(\\] )\", r\"\\1-\\2\\3\", tex)\n",
    "    return tex\n",
    "\n",
    "QubitCircuit.latex_code = fix_swap"
   ]
  },
  {
   "cell_type": "markdown",
   "id": "12652294",
   "metadata": {},
   "source": [
    "## Linear spin chain qubits\n",
    "\n",
    "Before we begin, we need to pick what kind of hardware device we will translate to. We'll choose a linear spin chain with three qubits:\n",
    "\n",
    "![02-spin-chain.png](./02-spin-chain.png)\n",
    "\n",
    "The nodes are the three qubits. The lines are the interactions between them. Note that each qubit can only interact with the two next to it in the chain. Qubits 0 and 2 cannot interact directly.\n",
    "\n",
    "Each qubit can be controlled by rotations around the $X$ and $Z$ axis. The corresponding Hamiltonian for qubit $j$ is:\n",
    "\n",
    "$$\n",
    "    \\Omega^x_{j}(t) \\sigma^x_{j} + \\Omega^z_{j}(t) \\sigma^z_{j}\n",
    "$$\n",
    "\n",
    "$ \\Omega^x_{j}(t) $ and $ \\Omega^z_{j}(t) $ are coefficients that are functions of time and which we can control in the real device by, e.g., firing a microwave pulse towards qubit $j$.\n",
    "\n",
    "The interactive between qubits $j$ and $j + 1$ is described by the Hamiltonian:\n",
    "    \n",
    "$$\n",
    "    g_{j}(t) (\\sigma^x_{j}\\sigma^x_{j+1} + \\sigma^y_{j}\\sigma^y_{j+1})\n",
    "$$\n",
    "\n",
    "Where here $g_{j}(t)$ is the time-dependent coefficient function that we can use to control the interaction.\n",
    "\n",
    "Putting all Hamiltonians for all of the qubits and interaction together, we get the full Hamiltonian for the system:\n",
    "\n",
    "$$\n",
    "H = \\sum_{j=0}^{N-1}\n",
    "        \\Omega^x_{j}(t) \\sigma^x_{j} +\n",
    "        \\Omega^z_{j}(t) \\sigma^z_{j} +\n",
    "    \\sum_{j=0}^{N-2}\n",
    "        g_{j}(t)\n",
    "        (\\sigma^x_{j}\\sigma^x_{j+1}+\n",
    "        \\sigma^y_{j}\\sigma^y_{j+1})\n",
    "$$\n",
    "\n",
    "Don't worry about understanding the Hamiltonian fully. The point is to have a general model of how a linear spin chain interacts and can be controlled that you keep in your head during the rest of this tutorial.\n",
    "\n",
    "QuTiP has a prebuilt version of this model. You can great an instance of it with:"
   ]
  },
  {
   "cell_type": "code",
   "execution_count": 4,
   "id": "5ea69499",
   "metadata": {},
   "outputs": [],
   "source": [
    "processor = LinearSpinChain(3)"
   ]
  },
  {
   "cell_type": "markdown",
   "id": "057264e3",
   "metadata": {},
   "source": [
    "## Create a simple circuit to translate\n",
    "\n",
    "Create this simple circuit to translate:\n",
    "\n",
    "![02-circuit.png](./02-circuit.png)\n",
    "\n",
    "It doesn't perform any specific useful operation. It's just a very simple example that will allow us to focus on what is happening during translation rather than what the circuit does."
   ]
  },
  {
   "cell_type": "code",
   "execution_count": 5,
   "id": "c56c9029",
   "metadata": {
    "tags": [
     "hide-cell"
    ]
   },
   "outputs": [
    {
     "data": {
      "image/png": "[encoded data removed]",
      "text/plain": [
       "<qutip_qip.circuit.QubitCircuit at 0x7fe5e7590820>"
      ]
     },
     "execution_count": 5,
     "metadata": {
      "filenames": {
       "image/png": "/home/simon/repos/elf/hodgestar/talks/qutip-kigali-2022/tutbok/_build/jupyter_execute/tutorials/02-qutip-qip-ii_10_0.png"
      }
     },
     "output_type": "execute_result"
    }
   ],
   "source": [
    "qc = QubitCircuit(N=3)\n",
    "\n",
    "qc.add_gate(\"SNOT\", targets=0)\n",
    "qc.add_gate(\"CNOT\", targets=2, controls=0)\n",
    "\n",
    "qc.add_gate(\"SNOT\", targets=1)\n",
    "qc.add_gate(\"CNOT\", targets=2, controls=1)\n",
    "\n",
    "qc"
   ]
  },
  {
   "cell_type": "markdown",
   "id": "d328b452",
   "metadata": {},
   "source": [
    "## Add swap gates by hand\n",
    "\n",
    "The circuit above can't be implemened directly on the device because the first CNOT operates on qubits 0 and 2 which are not next to each other in the spin chain and so can't interact.\n",
    "\n",
    "By hand, add some swap gates around the first CNOT gate so that the result circuit performs the same operation but could be executed on our spin chain.\n",
    "\n",
    "Could you have added different swap gates? Can you think of some reasons why some choices might be better than others? What about in bigger circuits with more gates?"
   ]
  },
  {
   "cell_type": "code",
   "execution_count": 6,
   "id": "ffce1adc",
   "metadata": {
    "tags": [
     "hide-cell"
    ]
   },
   "outputs": [
    {
     "data": {
      "image/png": "[encoded data removed]",
      "text/plain": [
       "<qutip_qip.circuit.QubitCircuit at 0x7fe5e7591840>"
      ]
     },
     "execution_count": 6,
     "metadata": {
      "filenames": {
       "image/png": "/home/simon/repos/elf/hodgestar/talks/qutip-kigali-2022/tutbok/_build/jupyter_execute/tutorials/02-qutip-qip-ii_12_0.png"
      }
     },
     "output_type": "execute_result"
    }
   ],
   "source": [
    "qc_swap = QubitCircuit(N=3, input_states=[\"0\", \"1\", \"2\"])\n",
    "\n",
    "qc_swap.add_gate(\"SNOT\", targets=0)\n",
    "qc_swap.add_gate(\"SWAP\", targets=[0, 1])\n",
    "qc_swap.add_gate(\"CNOT\", targets=2, controls=1)\n",
    "qc_swap.add_gate(\"SWAP\", targets=[0, 1])\n",
    "\n",
    "qc_swap.add_gate(\"SNOT\", targets=1)\n",
    "qc_swap.add_gate(\"CNOT\", targets=2, controls=1)\n",
    "\n",
    "qc_swap"
   ]
  },
  {
   "cell_type": "markdown",
   "id": "976d93e3",
   "metadata": {},
   "source": [
    "## Add swap gates automatically\n",
    "\n",
    "QuTiP's processors have a built-in method for performing the swaps -- `processor.topology_map(qc)`. It takes in a circuit and returns a new circuit with the swaps added.\n",
    "\n",
    "It has a small bug that means we have to fix the labels for the input states afterwards by doing `qc_swapped.input_states = qc.input_states`. If you are feeling adventurous later this week, we'd love a pull request to fix this bug. The issue is described in more detail at https://github.com/qutip/qutip-qip/issues/165.\n",
    "\n",
    "Compare the resulting circuit below to the swaps you used.\n",
    "\n",
    "Spend some time thinking about how you might write a general algorithm like this which can apply the appropriate swaps to *any* circuit. How would you make such an algorithm optimal? What does optimal mean for this problem? Would it help to be able to reorder the qubits at the start?"
   ]
  },
  {
   "cell_type": "code",
   "execution_count": 7,
   "id": "8d6dc720",
   "metadata": {
    "tags": [
     "hide-cell"
    ]
   },
   "outputs": [
    {
     "data": {
      "image/png": "[encoded data removed]",
      "text/plain": [
       "<qutip_qip.circuit.QubitCircuit at 0x7fe5e7591e70>"
      ]
     },
     "execution_count": 7,
     "metadata": {
      "filenames": {
       "image/png": "/home/simon/repos/elf/hodgestar/talks/qutip-kigali-2022/tutbok/_build/jupyter_execute/tutorials/02-qutip-qip-ii_14_0.png"
      }
     },
     "output_type": "execute_result"
    }
   ],
   "source": [
    "qc_auto_swap = processor.topology_map(qc)\n",
    "qc_auto_swap.input_states = qc.input_states\n",
    "qc_auto_swap"
   ]
  },
  {
   "cell_type": "markdown",
   "id": "9c1527db",
   "metadata": {},
   "source": [
    "## Translate to native gates\n",
    "\n",
    "Now that we have the swaps in place, the next step is to translate the gates our device can implement -- i.e. ones that can be turned into control pulses to send to our spin chain device.\n",
    "\n",
    "You can list the native gates for the device using:\n",
    "```\n",
    "processor.native_gates\n",
    "```\n",
    "\n",
    "They are native single qubit gates are `RX` and `RZ`. They rotate the qubit around the `X` and `Z` axes. Each takes an angle to rotate through as a parameter. They are performed using the $\\Omega^x_{j}(t)$ and $\\Omega^z_{j}(t)$ pulses from the Hamiltonian.\n",
    "\n",
    "The native two qubit gates are `ISWAP` and `SQRTISWAP`. They are performed using the interaction pulse $g_{j}(t)$ plus some additional control pulses on the individual qubits involved.\n",
    "\n",
    "Use `processor.transpile(qc)` to transform the gates into native gates. Whoa! It's complicated. Try to figure out what sequence of gates each of the individual gates was translated too. Use `.transpile` on simpler circuits with just one gate if you get stuck or to check your findings.\n",
    "\n",
    "What are the strange giant $Ph(\\pi /2)$ gates? How are they implemented?"
   ]
  },
  {
   "cell_type": "code",
   "execution_count": 8,
   "id": "87ce4d68",
   "metadata": {
    "tags": [
     "hide-cell"
    ]
   },
   "outputs": [
    {
     "data": {
      "text/plain": [
       "['SQRTISWAP', 'ISWAP', 'RX', 'RZ']"
      ]
     },
     "execution_count": 8,
     "metadata": {},
     "output_type": "execute_result"
    }
   ],
   "source": [
    "processor.native_gates"
   ]
  },
  {
   "cell_type": "code",
   "execution_count": 9,
   "id": "07b032d3",
   "metadata": {
    "tags": [
     "hide-cell"
    ]
   },
   "outputs": [
    {
     "data": {
      "image/png": "[encoded data removed]",
      "text/plain": [
       "<qutip_qip.circuit.QubitCircuit at 0x7fe5e7591c00>"
      ]
     },
     "execution_count": 9,
     "metadata": {
      "filenames": {
       "image/png": "/home/simon/repos/elf/hodgestar/talks/qutip-kigali-2022/tutbok/_build/jupyter_execute/tutorials/02-qutip-qip-ii_17_0.png"
      }
     },
     "output_type": "execute_result"
    }
   ],
   "source": [
    "qc_native = processor.transpile(qc)\n",
    "qc_native"
   ]
  },
  {
   "cell_type": "code",
   "execution_count": 10,
   "id": "62bcb6db",
   "metadata": {
    "tags": [
     "hide-cell"
    ]
   },
   "outputs": [
    {
     "data": {
      "image/png": "[encoded data removed]",
      "text/plain": [
       "<qutip_qip.circuit.QubitCircuit at 0x7fe5e7591cc0>"
      ]
     },
     "execution_count": 10,
     "metadata": {
      "filenames": {
       "image/png": "/home/simon/repos/elf/hodgestar/talks/qutip-kigali-2022/tutbok/_build/jupyter_execute/tutorials/02-qutip-qip-ii_18_0.png"
      }
     },
     "output_type": "execute_result"
    }
   ],
   "source": [
    "qc_snot = QubitCircuit(N=3)\n",
    "qc_snot.add_gate(\"SNOT\", targets=0)\n",
    "processor.transpile(qc_snot)"
   ]
  },
  {
   "cell_type": "code",
   "execution_count": 11,
   "id": "2ed57d97",
   "metadata": {
    "tags": [
     "hide-cell"
    ]
   },
   "outputs": [
    {
     "data": {
      "image/png": "[encoded data removed]",
      "text/plain": [
       "<qutip_qip.circuit.QubitCircuit at 0x7fe5e7591390>"
      ]
     },
     "execution_count": 11,
     "metadata": {
      "filenames": {
       "image/png": "/home/simon/repos/elf/hodgestar/talks/qutip-kigali-2022/tutbok/_build/jupyter_execute/tutorials/02-qutip-qip-ii_19_0.png"
      }
     },
     "output_type": "execute_result"
    }
   ],
   "source": [
    "qc_cnot = QubitCircuit(N=3)\n",
    "qc_cnot.add_gate(\"CNOT\", targets=0, controls=1)\n",
    "processor.transpile(qc_cnot)"
   ]
  },
  {
   "cell_type": "markdown",
   "id": "baba37ec",
   "metadata": {},
   "source": [
    "## Turn gates into pulses\n",
    "\n",
    "The compiled coefficients are square pulses and the control coefficients on 𝜎𝑧 and 𝜎𝑥 are also different, resulting in different gate times."
   ]
  },
  {
   "cell_type": "code",
   "execution_count": 12,
   "id": "d1ab40e5",
   "metadata": {
    "tags": [
     "hide-cell"
    ]
   },
   "outputs": [
    {
     "data": {
      "image/png": "[encoded data removed]",
      "text/plain": [
       "<Figure size 800x400 with 8 Axes>"
      ]
     },
     "metadata": {
      "filenames": {
       "image/png": "/home/simon/repos/elf/hodgestar/talks/qutip-kigali-2022/tutbok/_build/jupyter_execute/tutorials/02-qutip-qip-ii_21_0.png"
      }
     },
     "output_type": "display_data"
    }
   ],
   "source": [
    "processor.load_circuit(qc)\n",
    "processor.plot_pulses(title=\"Control pulse of Spin chain\", figsize=(8, 4), dpi=100);"
   ]
  },
  {
   "cell_type": "markdown",
   "id": "96b2a2b4",
   "metadata": {},
   "source": [
    "## Run the pulses on the device\n",
    "\n",
    "QuTiP's processor provides a method `.run_state(...)` for executing the pulses. Under the hood, this runs one of the QuTiP solvers, typically either `sesolve` or `mesolve`, and returns the result.\n",
    "\n",
    "Use `run_state(init_state=psi0)` to determine the effect of the pulses on `psi0`. What do the dimensions of `psi0` have to be? Do the results match what you expect? Try a few different values for `psi0`.\n",
    "\n",
    "By setting the decoherence times `t1` and `t2` on the processor using:\n",
    "```\n",
    "processor.t1 = 100\n",
    "processor.t2 = 30\n",
    "```\n",
    "we can simulate the loss of information to the environment on the circuit.\n",
    "\n",
    "If we add decoherence, what happens to the outcomes?"
   ]
  },
  {
   "cell_type": "code",
   "execution_count": 13,
   "id": "5613cde8",
   "metadata": {
    "tags": [
     "hide-cell"
    ]
   },
   "outputs": [
    {
     "name": "stdout",
     "output_type": "stream",
     "text": [
      "Probability of measuring qubit 0 in state 0: 0.49998981210581084\n",
      "Probability of measuring qubit 0 in state 1: 0.5000101878941888\n"
     ]
    }
   ],
   "source": [
    "processor.t1 = None\n",
    "processor.t2 = None\n",
    "\n",
    "psi0 = qutip.basis([2, 2, 2], [0,0,0])\n",
    "proj0 = qutip.ket(\"0\").proj()\n",
    "proj1 = qutip.ket(\"1\").proj()\n",
    "\n",
    "result = processor.run_state(init_state=psi0)\n",
    "print(\"Probability of measuring qubit 0 in state 0:\", qutip.expect(proj0, result.states[-1].ptrace(0)))\n",
    "print(\"Probability of measuring qubit 0 in state 1:\", qutip.expect(proj1, result.states[-1].ptrace(0)))"
   ]
  },
  {
   "cell_type": "code",
   "execution_count": 14,
   "id": "479ebb69",
   "metadata": {
    "tags": [
     "hide-cell"
    ]
   },
   "outputs": [
    {
     "name": "stdout",
     "output_type": "stream",
     "text": [
      "Probability of measuring qubit 0 in state 0: 0.5816168440850089\n",
      "Probability of measuring qubit 0 in state 1: 0.4183831559149921\n"
     ]
    }
   ],
   "source": [
    "processor.t1 = 100\n",
    "processor.t2 = 30\n",
    "\n",
    "result = processor.run_state(init_state=psi0)\n",
    "print(\"Probability of measuring qubit 0 in state 0:\", qutip.expect(proj0, result.states[-1].ptrace(0)))\n",
    "print(\"Probability of measuring qubit 0 in state 1:\", qutip.expect(proj1, result.states[-1].ptrace(0)))"
   ]
  },
  {
   "cell_type": "markdown",
   "id": "3c818021",
   "metadata": {},
   "source": [
    "## Links for further study\n",
    "\n",
    "Boxi Li wrote an excellent example of simulating the entire Deutsch-Jozsa algorithm on a spin chain in QuTiP. You can find it with the other QuTiP tutorials at [qutip.org](https://qutip.org/tutorials.html) under the title *Simulating the Deutsch–Jozsa algorithm with noise*."
   ]
  }
 ],
 "metadata": {
  "jupytext": {
   "formats": "md:myst,ipynb",
   "text_representation": {
    "extension": ".md",
    "format_name": "myst",
    "format_version": 0.13,
    "jupytext_version": "1.14.1"
   }
  },
  "kernelspec": {
   "display_name": "Python 3 (ipykernel)",
   "language": "python",
   "name": "python3"
  },
  "language_info": {
   "codemirror_mode": {
    "name": "ipython",
    "version": 3
   },
   "file_extension": ".py",
   "mimetype": "text/x-python",
   "name": "python",
   "nbconvert_exporter": "python",
   "pygments_lexer": "ipython3",
   "version": "3.10.0"
  },
  "source_map": [
   13,
   17,
   37,
   50,
   54,
   59,
   67,
   76,
   118,
   120,
   130,
   142,
   152,
   166,
   178,
   184,
   203,
   209,
   216,
   224,
   230,
   236,
   241,
   258,
   273,
   282
  ]
 },
 "nbformat": 4,
 "nbformat_minor": 5
}