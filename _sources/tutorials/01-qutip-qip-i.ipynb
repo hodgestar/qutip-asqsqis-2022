{
 "cells": [
  {
   "cell_type": "markdown",
   "id": "1d87fcae",
   "metadata": {},
   "source": [
    "# 01: Quantum Information Processing in QuTiP I"
   ]
  },
  {
   "cell_type": "markdown",
   "id": "d146ff0e",
   "metadata": {},
   "source": [
    "In this tutorial, we'll take a look at QuTiP's features for building quantum circuits and quantum gates."
   ]
  },
  {
   "cell_type": "markdown",
   "id": "3228ea87",
   "metadata": {},
   "source": [
    "## Tasks\n",
    "\n",
    "- [Import qutip and qutip.qip](#imports)\n",
    "- [Build and run a circuit with a single qubit and a Hadamard gate](#build-and-run-a-circuit-with-a-single-qubit-and-a-hadamard-gate)\n",
    "- [Build a circuit that prepares a Bell state](#build-a-circuit-that-prepares-a-bell-state)\n",
    "- [Now make circuits that prepare each of the four Bell basis states](#now-make-circuits-that-prepare-each-of-the-four-bell-basis-states)\n",
    "- [Add measurements to a circuit](#add-measurements-to-a-circuit)\n",
    "- [Quantum teleportation](#quantum-teleportation)"
   ]
  },
  {
   "cell_type": "markdown",
   "id": "ee70ae3a",
   "metadata": {},
   "source": [
    "## Imports"
   ]
  },
  {
   "cell_type": "code",
   "execution_count": 1,
   "id": "8dba9092",
   "metadata": {},
   "outputs": [],
   "source": [
    "%matplotlib inline\n",
    "import matplotlib.pyplot as plt"
   ]
  },
  {
   "cell_type": "code",
   "execution_count": 2,
   "id": "f19d5234",
   "metadata": {},
   "outputs": [],
   "source": [
    "import qutip\n",
    "import qutip.qip as qip\n",
    "import qutip.qip.operations as qip_ops\n",
    "import qutip.qip.circuit as qip_circuit\n",
    "import numpy as np"
   ]
  },
  {
   "cell_type": "markdown",
   "id": "5c5bc305",
   "metadata": {
    "tags": [
     "hide-cell"
    ]
   },
   "source": [
    "## Helper functions"
   ]
  },
  {
   "cell_type": "code",
   "execution_count": 3,
   "id": "3af7cffa",
   "metadata": {
    "tags": [
     "hide-cell"
    ]
   },
   "outputs": [],
   "source": [
    "def display_list(a, title=None):\n",
    "    \"\"\" Display a list of items using Jupyter's display function. \"\"\"\n",
    "    if title:\n",
    "        print(title)\n",
    "        print(\"=\" * len(title))\n",
    "    for item in a:\n",
    "        display(item)"
   ]
  },
  {
   "cell_type": "code",
   "execution_count": 4,
   "id": "65e0e5b3",
   "metadata": {
    "tags": [
     "hide-cell"
    ]
   },
   "outputs": [],
   "source": [
    "def show_bloch(states, vector_color=None, vector_alpha=None): # unused\n",
    "    \"\"\" Show states or density matrices on the Bloch sphere. \"\"\"\n",
    "    bloch = qutip.Bloch()\n",
    "    bloch.add_states(states)\n",
    "    if vector_color is not None:\n",
    "        if vector_color == \"rb\":\n",
    "            vector_color = [\n",
    "                (c, 0, 1 - c) for c in np.linspace(0.1, 1.0, len(states))\n",
    "            ]\n",
    "        bloch.vector_color = vector_color\n",
    "    if vector_alpha is not None:\n",
    "        bloch.vector_alpha = vector_alpha\n",
    "    bloch.show()"
   ]
  },
  {
   "cell_type": "code",
   "execution_count": 5,
   "id": "1592a754",
   "metadata": {
    "tags": [
     "hide-cell"
    ]
   },
   "outputs": [],
   "source": [
    "def display_circuit_statistics(qc, state, ptrace=None):\n",
    "    result = qc.run_statistics(state=state)\n",
    "    print(\"Final qubit states\")\n",
    "    print(\"==================\")\n",
    "    for p, state, cbits in zip(result.probabilities, result.final_states, result.cbits):\n",
    "        print(\"Probability:\", p)\n",
    "        if ptrace is not None:\n",
    "            state = state.ptrace(ptrace)\n",
    "        display(state)\n",
    "        print(\"Classical bit values:\", cbits)"
   ]
  },
  {
   "cell_type": "markdown",
   "id": "9f91f7ec",
   "metadata": {},
   "source": [
    "## Build and run a circuit with a single qubit and a Hadamard gate\n",
    "\n",
    "- One creates a circuit with `qip_circuit.QubitCircuit`\n",
    "- A gate can be added to a circuit using `.add_gate(NAME_OF_GATE, target=QUBIT_TO_TARGET)`\n",
    "- The qubit name for the Hadamard gate is `SNOT`.\n",
    "- Displaying a gate should print a nice circuit diagram in your notebook\n",
    "- When you get stuck try `qip_circuit.QubitCircuit?` in a new notebook cell -- this will show the documentation!\n",
    "- The `?` also works for any other class, object or method.\n",
    "- Once you've built the circuit, call `.run(...)` to try it out on the two basis states."
   ]
  },
  {
   "cell_type": "code",
   "execution_count": 6,
   "id": "8f5ad120",
   "metadata": {
    "tags": [
     "hide-cell"
    ]
   },
   "outputs": [
    {
     "data": {
      "image/png": "[encoded data removed]",
      "text/plain": [
       "<qutip.qip.circuit.QubitCircuit at 0x7f8d9fc13760>"
      ]
     },
     "execution_count": 6,
     "metadata": {
      "filenames": {
       "image/png": "/home/simon/repos/elf/hodgestar/talks/qutip-kigali-2022/tutbok/_build/jupyter_execute/tutorials/01-qutip-qip-i_11_0.png"
      }
     },
     "output_type": "execute_result"
    }
   ],
   "source": [
    "qc = qip_circuit.QubitCircuit(N=1)\n",
    "qc.add_gate(\"SNOT\", targets=0)\n",
    "qc"
   ]
  },
  {
   "cell_type": "code",
   "execution_count": 7,
   "id": "4966846f",
   "metadata": {
    "tags": [
     "hide-cell"
    ]
   },
   "outputs": [
    {
     "data": {
      "text/latex": [
       "Quantum object: dims = [[2], [1]], shape = (2, 1), type = ket $ \\\\ \\left(\\begin{matrix}0.707\\\\0.707\\\\\\end{matrix}\\right)$"
      ],
      "text/plain": [
       "Quantum object: dims = [[2], [1]], shape = (2, 1), type = ket\n",
       "Qobj data =\n",
       "[[0.70710678]\n",
       " [0.70710678]]"
      ]
     },
     "execution_count": 7,
     "metadata": {},
     "output_type": "execute_result"
    }
   ],
   "source": [
    "q0 = qutip.ket(\"0\")\n",
    "q1 = qutip.ket(\"1\")\n",
    "\n",
    "qc.run(state=q0)"
   ]
  },
  {
   "cell_type": "code",
   "execution_count": 8,
   "id": "4345cb19",
   "metadata": {
    "tags": [
     "hide-cell"
    ]
   },
   "outputs": [
    {
     "data": {
      "text/latex": [
       "Quantum object: dims = [[2], [1]], shape = (2, 1), type = ket $ \\\\ \\left(\\begin{matrix}0.707\\\\-0.707\\\\\\end{matrix}\\right)$"
      ],
      "text/plain": [
       "Quantum object: dims = [[2], [1]], shape = (2, 1), type = ket\n",
       "Qobj data =\n",
       "[[ 0.70710678]\n",
       " [-0.70710678]]"
      ]
     },
     "execution_count": 8,
     "metadata": {},
     "output_type": "execute_result"
    }
   ],
   "source": [
    "qc.run(state=q1)"
   ]
  },
  {
   "cell_type": "markdown",
   "id": "bee8192a",
   "metadata": {},
   "source": [
    "## Build a circuit that prepares a Bell state\n",
    "\n",
    "- This circuit should have two qubits.\n",
    "- Used |00> as your initial state.\n",
    "- Run the circuit and check the result.\n",
    "- Start with a simple circuit with no gates and then modify it. Run different versions to see what they do.\n",
    "- Then modify it step by step making it a bit less wrong each time.\n",
    "- You can create the state |00> using `qutip.ket(\"00\")`, but feel free to try other ways too."
   ]
  },
  {
   "cell_type": "code",
   "execution_count": 9,
   "id": "04c9e8e6",
   "metadata": {
    "tags": [
     "hide-cell"
    ]
   },
   "outputs": [
    {
     "data": {
      "image/png": "[encoded data removed]",
      "text/plain": [
       "<qutip.qip.circuit.QubitCircuit at 0x7f8d22885240>"
      ]
     },
     "execution_count": 9,
     "metadata": {
      "filenames": {
       "image/png": "/home/simon/repos/elf/hodgestar/talks/qutip-kigali-2022/tutbok/_build/jupyter_execute/tutorials/01-qutip-qip-i_15_0.png"
      }
     },
     "output_type": "execute_result"
    }
   ],
   "source": [
    "qc = qip_circuit.QubitCircuit(N=2)\n",
    "qc.add_gate(\"SNOT\", targets=0)\n",
    "qc.add_gate(\"CNOT\", controls=0, targets=1)\n",
    "qc"
   ]
  },
  {
   "cell_type": "code",
   "execution_count": 10,
   "id": "60b38d27",
   "metadata": {
    "tags": [
     "hide-cell"
    ]
   },
   "outputs": [],
   "source": [
    "q00 = qutip.ket(\"00\")"
   ]
  },
  {
   "cell_type": "code",
   "execution_count": 11,
   "id": "a12a6607",
   "metadata": {
    "tags": [
     "hide-cell"
    ]
   },
   "outputs": [
    {
     "data": {
      "text/latex": [
       "Quantum object: dims = [[2, 2], [1, 1]], shape = (4, 1), type = ket $ \\\\ \\left(\\begin{matrix}0.707\\\\0.0\\\\0.0\\\\0.707\\\\\\end{matrix}\\right)$"
      ],
      "text/plain": [
       "Quantum object: dims = [[2, 2], [1, 1]], shape = (4, 1), type = ket\n",
       "Qobj data =\n",
       "[[0.70710678]\n",
       " [0.        ]\n",
       " [0.        ]\n",
       " [0.70710678]]"
      ]
     },
     "execution_count": 11,
     "metadata": {},
     "output_type": "execute_result"
    }
   ],
   "source": [
    "qc.run(q00)"
   ]
  },
  {
   "cell_type": "markdown",
   "id": "bec1278b",
   "metadata": {},
   "source": [
    "## Now make circuits that prepare each of the four Bell basis states\n",
    "\n",
    "The Bell basis states are:\n",
    "\n",
    "$$ |\\Phi ^{+}\\rangle ={\\frac {1}{{\\sqrt {2}}}}(|0\\rangle _{A}\\otimes |0\\rangle _{B}+|1\\rangle _{A}\\otimes |1\\rangle _{B}) $$\n",
    "\n",
    "$$ |\\Phi ^{-}\\rangle ={\\frac {1}{{\\sqrt {2}}}}(|0\\rangle _{A}\\otimes |0\\rangle _{B}-|1\\rangle _{A}\\otimes |1\\rangle _{B}) $$\n",
    "\n",
    "$$ |\\Psi ^{+}\\rangle ={\\frac {1}{{\\sqrt {2}}}}(|0\\rangle _{A}\\otimes |1\\rangle _{B}+|1\\rangle _{A}\\otimes |0\\rangle _{B}) $$\n",
    "\n",
    "$$ |\\Psi ^{-}\\rangle ={\\frac {1}{{\\sqrt {2}}}}(|0\\rangle _{A}\\otimes |1\\rangle _{B}-|1\\rangle _{A}\\otimes |0\\rangle _{B}) $$\n",
    "\n",
    "Use |00> as your initial state again.\n",
    "\n",
    "If you get stuck, think about how to modify the circuits you've used already to get the desired state.\n",
    "\n",
    "Some other gates you might need are `CSIGN` and `X`."
   ]
  },
  {
   "cell_type": "code",
   "execution_count": 12,
   "id": "462e868c",
   "metadata": {
    "tags": [
     "hide-cell"
    ]
   },
   "outputs": [
    {
     "data": {
      "image/png": "[encoded data removed]",
      "text/plain": [
       "<qutip.qip.circuit.QubitCircuit at 0x7f8d22885720>"
      ]
     },
     "execution_count": 12,
     "metadata": {
      "filenames": {
       "image/png": "/home/simon/repos/elf/hodgestar/talks/qutip-kigali-2022/tutbok/_build/jupyter_execute/tutorials/01-qutip-qip-i_19_0.png"
      }
     },
     "output_type": "execute_result"
    }
   ],
   "source": [
    "# Phi+: The first Bell basis state that we've already prepared\n",
    "qc_phi_p = qip_circuit.QubitCircuit(N=2)\n",
    "qc_phi_p.add_gate(\"SNOT\", targets=0)\n",
    "qc_phi_p.add_gate(\"CNOT\", controls=0, targets=1)\n",
    "qc_phi_p"
   ]
  },
  {
   "cell_type": "code",
   "execution_count": 13,
   "id": "6956942b",
   "metadata": {
    "tags": [
     "hide-cell"
    ]
   },
   "outputs": [
    {
     "data": {
      "text/latex": [
       "Quantum object: dims = [[2, 2], [1, 1]], shape = (4, 1), type = ket $ \\\\ \\left(\\begin{matrix}0.707\\\\0.0\\\\0.0\\\\0.707\\\\\\end{matrix}\\right)$"
      ],
      "text/plain": [
       "Quantum object: dims = [[2, 2], [1, 1]], shape = (4, 1), type = ket\n",
       "Qobj data =\n",
       "[[0.70710678]\n",
       " [0.        ]\n",
       " [0.        ]\n",
       " [0.70710678]]"
      ]
     },
     "execution_count": 13,
     "metadata": {},
     "output_type": "execute_result"
    }
   ],
   "source": [
    "qc_phi_p.run(q00)"
   ]
  },
  {
   "cell_type": "code",
   "execution_count": 14,
   "id": "d1763af3",
   "metadata": {
    "tags": [
     "hide-cell"
    ]
   },
   "outputs": [
    {
     "data": {
      "image/png": "[encoded data removed]",
      "text/plain": [
       "<qutip.qip.circuit.QubitCircuit at 0x7f8d22885210>"
      ]
     },
     "execution_count": 14,
     "metadata": {
      "filenames": {
       "image/png": "/home/simon/repos/elf/hodgestar/talks/qutip-kigali-2022/tutbok/_build/jupyter_execute/tutorials/01-qutip-qip-i_21_0.png"
      }
     },
     "output_type": "execute_result"
    }
   ],
   "source": [
    "# Phi-: Like Phi+ but with the sign of the |11> part of the state flipped.\n",
    "qc_phi_m = qip_circuit.QubitCircuit(N=2)\n",
    "qc_phi_m.add_gate(\"SNOT\", targets=0)\n",
    "qc_phi_m.add_gate(\"CNOT\", controls=0, targets=1)\n",
    "qc_phi_m.add_gate(\"CSIGN\", controls=0, targets=1)\n",
    "qc_phi_m"
   ]
  },
  {
   "cell_type": "code",
   "execution_count": 15,
   "id": "99009c1d",
   "metadata": {
    "tags": [
     "hide-cell"
    ]
   },
   "outputs": [
    {
     "data": {
      "text/latex": [
       "Quantum object: dims = [[2, 2], [1, 1]], shape = (4, 1), type = ket $ \\\\ \\left(\\begin{matrix}0.707\\\\0.0\\\\0.0\\\\-0.707\\\\\\end{matrix}\\right)$"
      ],
      "text/plain": [
       "Quantum object: dims = [[2, 2], [1, 1]], shape = (4, 1), type = ket\n",
       "Qobj data =\n",
       "[[ 0.70710678]\n",
       " [ 0.        ]\n",
       " [ 0.        ]\n",
       " [-0.70710678]]"
      ]
     },
     "execution_count": 15,
     "metadata": {},
     "output_type": "execute_result"
    }
   ],
   "source": [
    "qc_phi_m.run(q00)"
   ]
  },
  {
   "cell_type": "code",
   "execution_count": 16,
   "id": "df53bc20",
   "metadata": {
    "tags": [
     "hide-cell"
    ]
   },
   "outputs": [
    {
     "data": {
      "image/png": "[encoded data removed]",
      "text/plain": [
       "<qutip.qip.circuit.QubitCircuit at 0x7f8d22885e70>"
      ]
     },
     "execution_count": 16,
     "metadata": {
      "filenames": {
       "image/png": "/home/simon/repos/elf/hodgestar/talks/qutip-kigali-2022/tutbok/_build/jupyter_execute/tutorials/01-qutip-qip-i_23_0.png"
      }
     },
     "output_type": "execute_result"
    }
   ],
   "source": [
    "# Psi+: Now the two bits are always anti-aligned\n",
    "qc_psi_p = qip_circuit.QubitCircuit(N=2)\n",
    "qc_psi_p.add_gate(\"X\", targets=1)\n",
    "qc_psi_p.add_gate(\"SNOT\", targets=0)\n",
    "qc_psi_p.add_gate(\"CNOT\", controls=0, targets=1)\n",
    "qc_psi_p"
   ]
  },
  {
   "cell_type": "code",
   "execution_count": 17,
   "id": "ce59d252",
   "metadata": {
    "tags": [
     "hide-cell"
    ]
   },
   "outputs": [
    {
     "data": {
      "text/latex": [
       "Quantum object: dims = [[2, 2], [1, 1]], shape = (4, 1), type = ket $ \\\\ \\left(\\begin{matrix}0.0\\\\0.707\\\\0.707\\\\0.0\\\\\\end{matrix}\\right)$"
      ],
      "text/plain": [
       "Quantum object: dims = [[2, 2], [1, 1]], shape = (4, 1), type = ket\n",
       "Qobj data =\n",
       "[[0.        ]\n",
       " [0.70710678]\n",
       " [0.70710678]\n",
       " [0.        ]]"
      ]
     },
     "execution_count": 17,
     "metadata": {},
     "output_type": "execute_result"
    }
   ],
   "source": [
    "qc_psi_p.run(q00)"
   ]
  },
  {
   "cell_type": "code",
   "execution_count": 18,
   "id": "89a4dae9",
   "metadata": {
    "tags": [
     "hide-cell"
    ]
   },
   "outputs": [
    {
     "data": {
      "image/png": "[encoded data removed]",
      "text/plain": [
       "<qutip.qip.circuit.QubitCircuit at 0x7f8d228866e0>"
      ]
     },
     "execution_count": 18,
     "metadata": {
      "filenames": {
       "image/png": "/home/simon/repos/elf/hodgestar/talks/qutip-kigali-2022/tutbok/_build/jupyter_execute/tutorials/01-qutip-qip-i_25_0.png"
      }
     },
     "output_type": "execute_result"
    }
   ],
   "source": [
    "# Psi-: Now the two bits are always anti-aligned AND there is a minus on the second part\n",
    "qc_psi_m = qip_circuit.QubitCircuit(N=2)\n",
    "qc_psi_m.add_gate(\"X\", targets=1)\n",
    "qc_psi_m.add_gate(\"SNOT\", targets=0)\n",
    "qc_psi_m.add_gate(\"CNOT\", controls=0, targets=1)\n",
    "qc_psi_m.add_gate(\"CSIGN\", controls=0, targets=1)\n",
    "qc_psi_m"
   ]
  },
  {
   "cell_type": "code",
   "execution_count": 19,
   "id": "a5052afe",
   "metadata": {
    "tags": [
     "hide-cell"
    ]
   },
   "outputs": [
    {
     "data": {
      "text/latex": [
       "Quantum object: dims = [[2, 2], [1, 1]], shape = (4, 1), type = ket $ \\\\ \\left(\\begin{matrix}0.0\\\\0.707\\\\0.707\\\\0.0\\\\\\end{matrix}\\right)$"
      ],
      "text/plain": [
       "Quantum object: dims = [[2, 2], [1, 1]], shape = (4, 1), type = ket\n",
       "Qobj data =\n",
       "[[0.        ]\n",
       " [0.70710678]\n",
       " [0.70710678]\n",
       " [0.        ]]"
      ]
     },
     "execution_count": 19,
     "metadata": {},
     "output_type": "execute_result"
    }
   ],
   "source": [
    "qc_psi_m.run(q00)"
   ]
  },
  {
   "cell_type": "markdown",
   "id": "03178b63",
   "metadata": {},
   "source": [
    "## Add measurements to a circuit\n",
    "\n",
    "The next task is to add a measurement to our circuit.\n",
    "\n",
    "In order to store the measurement result, we need to add classical bits. The same way we had `N` for the number of qubits, we'll add `num_cbits=1` (or 2, 3, etc) to specify the number of classical bits our circuit will use. This goes into the call to create the circuit, e.g. `QubitCircuit(..., num_cbits=1)`.\n",
    "\n",
    "Now that we have somewhere to store the result, we can add a measurement to our circuit by calling `.add_measurement(LABEL, targets=QUBIT_INDEX, classical_store=CLASSICAL_BIT_INDEX)`.\n",
    "\n",
    "The measurements are a little like gates, but there are some big differences. A measurement collapses a the state of a qubit to either the |0> or the |1> state. From that point onwards, the circuit has *two* possible quantum states. Adding another measurement doubles the number of possible outcomes to four. Adding a third brings the total to eight, and so.\n",
    "\n",
    "There are two ways to run a circuit with measurement, and you should try out both:\n",
    "\n",
    "- `.run(...)` returns just the final state. It's the equivalent of running a real circuit on a quantum device once. You'll also hear people refer to this as a \"single shot\". You can provide a list via `cbits=` to return the classical measurement results from this one run.\n",
    "\n",
    "- `.run_statistics(...)` returns all possible final states along with their probabilities and the corresponding values of the classical bits. Very useful when wanting to understand the behaviour of small circuits quickly. The returned result has attributes `.probabilites`, `.final_states` and `.cbits`. Each of these are lists with one entry for each possible outcome.\n",
    "\n",
    "Start with a simple circuit with just one qubit, one classical bit, a single Hadamard gate and single measurement. One you've explored that fully, you can try add some measurements to your Bell state circuits from the previous section."
   ]
  },
  {
   "cell_type": "code",
   "execution_count": 20,
   "id": "1a99e726",
   "metadata": {
    "tags": [
     "hide-cell"
    ]
   },
   "outputs": [
    {
     "data": {
      "image/png": "[encoded data removed]",
      "text/plain": [
       "<qutip.qip.circuit.QubitCircuit at 0x7f8d22887280>"
      ]
     },
     "execution_count": 20,
     "metadata": {
      "filenames": {
       "image/png": "/home/simon/repos/elf/hodgestar/talks/qutip-kigali-2022/tutbok/_build/jupyter_execute/tutorials/01-qutip-qip-i_28_0.png"
      }
     },
     "output_type": "execute_result"
    }
   ],
   "source": [
    "# Create a simple circuit with a single measurement\n",
    "qc = qip_circuit.QubitCircuit(N=1, num_cbits=1)\n",
    "qc.add_gate(\"SNOT\", targets=0)\n",
    "qc.add_measurement(\"M0\", targets=0, classical_store=0)\n",
    "qc"
   ]
  },
  {
   "cell_type": "code",
   "execution_count": 21,
   "id": "3dd40cad",
   "metadata": {
    "tags": [
     "hide-cell"
    ]
   },
   "outputs": [
    {
     "name": "stdout",
     "output_type": "stream",
     "text": [
      "Finale state:\n"
     ]
    },
    {
     "data": {
      "text/latex": [
       "Quantum object: dims = [[2], [1]], shape = (2, 1), type = ket $ \\\\ \\left(\\begin{matrix}1.0\\\\0.0\\\\\\end{matrix}\\right)$"
      ],
      "text/plain": [
       "Quantum object: dims = [[2], [1]], shape = (2, 1), type = ket\n",
       "Qobj data =\n",
       "[[1.]\n",
       " [0.]]"
      ]
     },
     "metadata": {},
     "output_type": "display_data"
    },
    {
     "name": "stdout",
     "output_type": "stream",
     "text": [
      "Classical bits: [0]\n"
     ]
    }
   ],
   "source": [
    "# Run a single shot and capture the final qubit state and the value of the classical bits\n",
    "# Run this cell multiple times to see the two possible outcomes\n",
    "classical_store = [None]\n",
    "final_state = qc.run(q0, cbits=classical_store)\n",
    "\n",
    "print(\"Finale state:\")\n",
    "display(final_state)\n",
    "print(\"Classical bits:\", classical_store)"
   ]
  },
  {
   "cell_type": "code",
   "execution_count": 22,
   "id": "0301adaa",
   "metadata": {
    "tags": [
     "hide-cell"
    ]
   },
   "outputs": [],
   "source": [
    "# Determine all possible outcomes and their probabilities\n",
    "result = qc.run_statistics(state=q0)"
   ]
  },
  {
   "cell_type": "code",
   "execution_count": 23,
   "id": "4cf13d12",
   "metadata": {
    "tags": [
     "hide-cell"
    ]
   },
   "outputs": [
    {
     "data": {
      "text/latex": [
       "Quantum object: dims = [[2], [1]], shape = (2, 1), type = ket $ \\\\ \\left(\\begin{matrix}1.0\\\\0.0\\\\\\end{matrix}\\right)$"
      ],
      "text/plain": [
       "Quantum object: dims = [[2], [1]], shape = (2, 1), type = ket\n",
       "Qobj data =\n",
       "[[1.]\n",
       " [0.]]"
      ]
     },
     "metadata": {},
     "output_type": "display_data"
    },
    {
     "data": {
      "text/latex": [
       "Quantum object: dims = [[2], [1]], shape = (2, 1), type = ket $ \\\\ \\left(\\begin{matrix}0.0\\\\1.0\\\\\\end{matrix}\\right)$"
      ],
      "text/plain": [
       "Quantum object: dims = [[2], [1]], shape = (2, 1), type = ket\n",
       "Qobj data =\n",
       "[[0.]\n",
       " [1.]]"
      ]
     },
     "metadata": {},
     "output_type": "display_data"
    }
   ],
   "source": [
    "display_list(result.final_states)"
   ]
  },
  {
   "cell_type": "code",
   "execution_count": 24,
   "id": "2ca7f429",
   "metadata": {
    "tags": [
     "hide-cell"
    ]
   },
   "outputs": [
    {
     "data": {
      "text/plain": [
       "[0.4999999999999999, 0.4999999999999999]"
      ]
     },
     "execution_count": 24,
     "metadata": {},
     "output_type": "execute_result"
    }
   ],
   "source": [
    "result.probabilities"
   ]
  },
  {
   "cell_type": "code",
   "execution_count": 25,
   "id": "49401848",
   "metadata": {
    "tags": [
     "hide-cell"
    ]
   },
   "outputs": [
    {
     "data": {
      "text/plain": [
       "[[0], [1]]"
      ]
     },
     "execution_count": 25,
     "metadata": {},
     "output_type": "execute_result"
    }
   ],
   "source": [
    "result.cbits"
   ]
  },
  {
   "cell_type": "code",
   "execution_count": 26,
   "id": "cd7a3e0e",
   "metadata": {
    "tags": [
     "hide-cell"
    ]
   },
   "outputs": [
    {
     "name": "stdout",
     "output_type": "stream",
     "text": [
      "Final qubit states\n",
      "==================\n",
      "Probability: 0.4999999999999999\n"
     ]
    },
    {
     "data": {
      "text/latex": [
       "Quantum object: dims = [[2], [1]], shape = (2, 1), type = ket $ \\\\ \\left(\\begin{matrix}1.0\\\\0.0\\\\\\end{matrix}\\right)$"
      ],
      "text/plain": [
       "Quantum object: dims = [[2], [1]], shape = (2, 1), type = ket\n",
       "Qobj data =\n",
       "[[1.]\n",
       " [0.]]"
      ]
     },
     "metadata": {},
     "output_type": "display_data"
    },
    {
     "name": "stdout",
     "output_type": "stream",
     "text": [
      "Classical bit values: [0]\n",
      "Probability: 0.4999999999999999\n"
     ]
    },
    {
     "data": {
      "text/latex": [
       "Quantum object: dims = [[2], [1]], shape = (2, 1), type = ket $ \\\\ \\left(\\begin{matrix}0.0\\\\1.0\\\\\\end{matrix}\\right)$"
      ],
      "text/plain": [
       "Quantum object: dims = [[2], [1]], shape = (2, 1), type = ket\n",
       "Qobj data =\n",
       "[[0.]\n",
       " [1.]]"
      ]
     },
     "metadata": {},
     "output_type": "display_data"
    },
    {
     "name": "stdout",
     "output_type": "stream",
     "text": [
      "Classical bit values: [1]\n"
     ]
    }
   ],
   "source": [
    "display_circuit_statistics(qc, q0)"
   ]
  },
  {
   "cell_type": "markdown",
   "id": "c98ec075",
   "metadata": {},
   "source": [
    "## Quantum teleportation\n",
    "\n",
    "You should have coverted the quantum teleportation protocol in the lectures, but if you need a refresher you can find a excellent pair for videos by Michael Nielsen on YouTube:\n",
    "\n",
    "- [Quantum teleportation](https://www.youtube.com/watch?v=3wZ35c3oYUE)\n",
    "- [Quantum teleportation discussion](https://www.youtube.com/watch?v=Yfk7J1kBegw)\n",
    "\n",
    "Start simply by determining the basics:\n",
    "\n",
    "- How many qubits will your circuit need?\n",
    "- How many measurements will need to be performed?\n",
    "- How many classical bits will be needed to store the measurement outcomes?\n",
    "- Write down the steps of the protocol for yourself.\n",
    "- Implement each of the small steps and check the outcomes match what you expect.\n",
    "\n",
    "Right at the end of the protocol we need to apply a gate based on the outcome of the measurements:\n",
    "\n",
    "- $|00⟩ \\rightarrow $ no operation\n",
    "- $|01⟩ \\rightarrow Z$\n",
    "- $|10⟩ \\rightarrow X$\n",
    "- $|11⟩ \\rightarrow ZX$\n",
    "\n",
    "We haven't seen how to do this yet, but QuTiP provides an option for it:\n",
    "\n",
    "```python\n",
    "qc.add_gate(\"X\", targets=[2], classical_controls=[0])\n",
    "```\n",
    "\n",
    "This will apply an `X` gate to qubit `2`, only if the value of the zeroth classical bit is `1`. Try it out in a simpler circuit first.\n",
    "\n",
    "When you look at the final result, you'll be looking at all three qubits, so you'll need take a partial trace to see just the qubit that the initial state has been teleported to.\n",
    "\n",
    "For AFTER the tutorial:\n",
    "\n",
    "- You can find a great worked example of teleportation in the [QuTiP tutorials](https://nbviewer.ipython.org/github/qutip/qutip-notebooks/blob/master/examples/teleportation.ipynb). Do not read it now! Use it as a reference later on when you're revisiting this tutorial or want to remember the details of the protocol again."
   ]
  },
  {
   "cell_type": "code",
   "execution_count": 27,
   "id": "7524222a",
   "metadata": {
    "tags": [
     "hide-cell"
    ]
   },
   "outputs": [
    {
     "data": {
      "image/png": "[encoded data removed]",
      "text/plain": [
       "<qutip.qip.circuit.QubitCircuit at 0x7f8d228872e0>"
      ]
     },
     "execution_count": 27,
     "metadata": {
      "filenames": {
       "image/png": "/home/simon/repos/elf/hodgestar/talks/qutip-kigali-2022/tutbok/_build/jupyter_execute/tutorials/01-qutip-qip-i_36_0.png"
      }
     },
     "output_type": "execute_result"
    }
   ],
   "source": [
    "# Create an empty circuit with three qubits and two classical bits\n",
    "tc = qip_circuit.QubitCircuit(3, num_cbits=2, input_states=[\"\\psi\", \"0\", \"0\", \"c0\", \"c1\"])\n",
    "tc"
   ]
  },
  {
   "cell_type": "code",
   "execution_count": 28,
   "id": "f7dad112",
   "metadata": {
    "tags": [
     "hide-cell"
    ]
   },
   "outputs": [
    {
     "data": {
      "image/png": "[encoded data removed]",
      "text/plain": [
       "<qutip.qip.circuit.QubitCircuit at 0x7f8d228872e0>"
      ]
     },
     "execution_count": 28,
     "metadata": {
      "filenames": {
       "image/png": "/home/simon/repos/elf/hodgestar/talks/qutip-kigali-2022/tutbok/_build/jupyter_execute/tutorials/01-qutip-qip-i_37_0.png"
      }
     },
     "output_type": "execute_result"
    }
   ],
   "source": [
    "# Add the gates to create a bell pair between the second and third qubit\n",
    "# After this, Alice and Bob separate, with Alice taking qubits 0 and 1, and Bob qubit 2\n",
    "tc.add_gate(\"SNOT\", targets=[1])\n",
    "tc.add_gate(\"CNOT\", targets=[2], controls=[1])\n",
    "tc"
   ]
  },
  {
   "cell_type": "code",
   "execution_count": 29,
   "id": "307ae547",
   "metadata": {
    "tags": [
     "hide-cell"
    ]
   },
   "outputs": [
    {
     "data": {
      "image/png": "[encoded data removed]",
      "text/plain": [
       "<qutip.qip.circuit.QubitCircuit at 0x7f8d228872e0>"
      ]
     },
     "execution_count": 29,
     "metadata": {
      "filenames": {
       "image/png": "/home/simon/repos/elf/hodgestar/talks/qutip-kigali-2022/tutbok/_build/jupyter_execute/tutorials/01-qutip-qip-i_38_0.png"
      }
     },
     "output_type": "execute_result"
    }
   ],
   "source": [
    "# Alice then interacts the qubit 0 (psi) with qubit 1\n",
    "tc.add_gate(\"CNOT\", targets=[1], controls=[0])\n",
    "tc.add_gate(\"SNOT\", targets=[0])\n",
    "tc"
   ]
  },
  {
   "cell_type": "code",
   "execution_count": 30,
   "id": "78d180fc",
   "metadata": {
    "tags": [
     "hide-cell"
    ]
   },
   "outputs": [
    {
     "data": {
      "image/png": "[encoded data removed]",
      "text/plain": [
       "<qutip.qip.circuit.QubitCircuit at 0x7f8d228872e0>"
      ]
     },
     "execution_count": 30,
     "metadata": {
      "filenames": {
       "image/png": "/home/simon/repos/elf/hodgestar/talks/qutip-kigali-2022/tutbok/_build/jupyter_execute/tutorials/01-qutip-qip-i_39_0.png"
      }
     },
     "output_type": "execute_result"
    }
   ],
   "source": [
    "# Alice and Bob then measure qubits 1 and 2, respectively.\n",
    "tc.add_measurement(\"M0\", targets=[0], classical_store=1)\n",
    "tc.add_measurement(\"M1\", targets=[1], classical_store=0)\n",
    "tc"
   ]
  },
  {
   "cell_type": "code",
   "execution_count": 31,
   "id": "0e667f01",
   "metadata": {
    "tags": [
     "hide-cell"
    ]
   },
   "outputs": [
    {
     "data": {
      "image/png": "[encoded data removed]",
      "text/plain": [
       "<qutip.qip.circuit.QubitCircuit at 0x7f8d228872e0>"
      ]
     },
     "execution_count": 31,
     "metadata": {
      "filenames": {
       "image/png": "/home/simon/repos/elf/hodgestar/talks/qutip-kigali-2022/tutbok/_build/jupyter_execute/tutorials/01-qutip-qip-i_40_0.png"
      }
     },
     "output_type": "execute_result"
    }
   ],
   "source": [
    "# Alice sends her measurement results to Bob (e.g. via an ordinary phone call)\n",
    "# Bob uses the combination of measurement results to return qubit 2 to the intial state of psi\n",
    "tc.add_gate(\"X\", targets=[2], classical_controls=[0])\n",
    "tc.add_gate(\"Z\", targets=[2], classical_controls=[1])\n",
    "tc"
   ]
  },
  {
   "cell_type": "code",
   "execution_count": 32,
   "id": "9bb9f894",
   "metadata": {
    "tags": [
     "hide-cell"
    ]
   },
   "outputs": [
    {
     "name": "stdout",
     "output_type": "stream",
     "text": [
      "Final qubit states\n",
      "==================\n",
      "Probability: 0.24999999999999994\n"
     ]
    },
    {
     "data": {
      "text/latex": [
       "Quantum object: dims = [[2], [2]], shape = (2, 2), type = oper, isherm = True $ \\\\ \\left(\\begin{matrix}1.0 & 0.0\\\\0.0 & 0.0\\\\\\end{matrix}\\right)$"
      ],
      "text/plain": [
       "Quantum object: dims = [[2], [2]], shape = (2, 2), type = oper, isherm = True\n",
       "Qobj data =\n",
       "[[1. 0.]\n",
       " [0. 0.]]"
      ]
     },
     "metadata": {},
     "output_type": "display_data"
    },
    {
     "name": "stdout",
     "output_type": "stream",
     "text": [
      "Classical bit values: [0, 0]\n",
      "Probability: 0.24999999999999994\n"
     ]
    },
    {
     "data": {
      "text/latex": [
       "Quantum object: dims = [[2], [2]], shape = (2, 2), type = oper, isherm = True $ \\\\ \\left(\\begin{matrix}1.0 & 0.0\\\\0.0 & 0.0\\\\\\end{matrix}\\right)$"
      ],
      "text/plain": [
       "Quantum object: dims = [[2], [2]], shape = (2, 2), type = oper, isherm = True\n",
       "Qobj data =\n",
       "[[1. 0.]\n",
       " [0. 0.]]"
      ]
     },
     "metadata": {},
     "output_type": "display_data"
    },
    {
     "name": "stdout",
     "output_type": "stream",
     "text": [
      "Classical bit values: [1, 0]\n",
      "Probability: 0.24999999999999994\n"
     ]
    },
    {
     "data": {
      "text/latex": [
       "Quantum object: dims = [[2], [2]], shape = (2, 2), type = oper, isherm = True $ \\\\ \\left(\\begin{matrix}1.0 & 0.0\\\\0.0 & 0.0\\\\\\end{matrix}\\right)$"
      ],
      "text/plain": [
       "Quantum object: dims = [[2], [2]], shape = (2, 2), type = oper, isherm = True\n",
       "Qobj data =\n",
       "[[1. 0.]\n",
       " [0. 0.]]"
      ]
     },
     "metadata": {},
     "output_type": "display_data"
    },
    {
     "name": "stdout",
     "output_type": "stream",
     "text": [
      "Classical bit values: [0, 1]\n",
      "Probability: 0.24999999999999994\n"
     ]
    },
    {
     "data": {
      "text/latex": [
       "Quantum object: dims = [[2], [2]], shape = (2, 2), type = oper, isherm = True $ \\\\ \\left(\\begin{matrix}1.0 & 0.0\\\\0.0 & 0.0\\\\\\end{matrix}\\right)$"
      ],
      "text/plain": [
       "Quantum object: dims = [[2], [2]], shape = (2, 2), type = oper, isherm = True\n",
       "Qobj data =\n",
       "[[1. 0.]\n",
       " [0. 0.]]"
      ]
     },
     "metadata": {},
     "output_type": "display_data"
    },
    {
     "name": "stdout",
     "output_type": "stream",
     "text": [
      "Classical bit values: [1, 1]\n"
     ]
    }
   ],
   "source": [
    "# Now that we have the circuit, let's run the teleportation protocol!\n",
    "# Try changing the initial value of psi (qubit 0) and seeing what happens.\n",
    "# Remember that qubit 1 and 2 need to start in state |0>. See what happens if they don't.\n",
    "psi = qutip.ket(\"0\")\n",
    "qbits = [psi, qutip.ket(\"0\"), qutip.ket(\"0\")]\n",
    "initial_state = qutip.tensor(qbits)\n",
    "display_circuit_statistics(tc, initial_state, ptrace=[2])"
   ]
  },
  {
   "cell_type": "markdown",
   "id": "b6b1d59c",
   "metadata": {},
   "source": [
    "## Using functions to make your notebooks neater\n",
    "\n",
    "- Write a function for displaying the run_statistics of a given circuit and initial state"
   ]
  },
  {
   "cell_type": "code",
   "execution_count": 33,
   "id": "af0e098c",
   "metadata": {
    "tags": [
     "hide-cell"
    ]
   },
   "outputs": [],
   "source": [
    "# See the helper functions at the top for examples."
   ]
  }
 ],
 "metadata": {
  "jupytext": {
   "formats": "md:myst,ipynb",
   "text_representation": {
    "extension": ".md",
    "format_name": "myst",
    "format_version": 0.13,
    "jupytext_version": "1.14.1"
   }
  },
  "kernelspec": {
   "display_name": "Python 3 (ipykernel)",
   "language": "python",
   "name": "python3"
  },
  "language_info": {
   "codemirror_mode": {
    "name": "ipython",
    "version": 3
   },
   "file_extension": ".py",
   "mimetype": "text/x-python",
   "name": "python",
   "nbconvert_exporter": "python",
   "pygments_lexer": "ipython3",
   "version": "3.10.0"
  },
  "source_map": [
   13,
   17,
   21,
   32,
   36,
   41,
   49,
   53,
   65,
   83,
   96,
   108,
   116,
   125,
   129,
   140,
   149,
   155,
   159,
   179,
   189,
   195,
   206,
   212,
   223,
   229,
   241,
   245,
   265,
   275,
   288,
   295,
   301,
   307,
   313,
   317,
   355,
   363,
   373,
   382,
   391,
   401,
   411,
   417
  ]
 },
 "nbformat": 4,
 "nbformat_minor": 5
}