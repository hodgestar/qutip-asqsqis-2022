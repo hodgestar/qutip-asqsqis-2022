{
 "cells": [
  {
   "cell_type": "markdown",
   "id": "fd234047",
   "metadata": {},
   "source": [
    "# 03: Neutral Atom Simulator (Outline)"
   ]
  },
  {
   "cell_type": "markdown",
   "id": "2a16c37b",
   "metadata": {},
   "source": [
    "## Imports"
   ]
  },
  {
   "cell_type": "code",
   "execution_count": 1,
   "id": "5b2e3b20",
   "metadata": {},
   "outputs": [],
   "source": [
    "import qutip\n",
    "import numpy as np"
   ]
  },
  {
   "cell_type": "code",
   "execution_count": 2,
   "id": "84c4a802",
   "metadata": {},
   "outputs": [],
   "source": [
    "%matplotlib inline\n",
    "import matplotlib.pyplot as plt"
   ]
  },
  {
   "cell_type": "markdown",
   "id": "66e7318d",
   "metadata": {},
   "source": [
    "## Outline of an implementation"
   ]
  },
  {
   "cell_type": "code",
   "execution_count": 3,
   "id": "44499e31",
   "metadata": {},
   "outputs": [],
   "source": [
    "class NeutralAtomCircuit:\n",
    "    \"\"\" A neutral atom circuit laser pulse simulator. \"\"\"\n",
    "    def __init__(self, atoms):\n",
    "        self.n = len(atoms)\n",
    "        self.atoms = atoms\n",
    "        self.pulses = []\n",
    "        self.t = 0\n",
    "\n",
    "    def state(self, s):\n",
    "        \"\"\" Return a ket corresponding to the given string description. \"\"\"\n",
    "\n",
    "    def run(self, psi, tlist=None, step_rate=20):\n",
    "        \"\"\" Run the circuit. \"\"\"        \n",
    "\n",
    "    # Gates implemented directly using control pulses:\n",
    "\n",
    "    def rx(self, i, theta, dt=1):\n",
    "        \"\"\" Add a laser pulse that rotates qubit i an angle theta around the X axis. \"\"\"\n",
    "\n",
    "    def ry(self, i, theta, dt=1):\n",
    "        \"\"\" Add a laser pulse that rotates qubit i an angle theta around the Y axis. \"\"\"\n",
    "\n",
    "    def rz(self, i, theta, dt=1):\n",
    "        \"\"\" Add a laser pulse that rotates qubit i an angle theta around the Z axis. \"\"\"\n",
    "\n",
    "    def cz(self, control, target, dt=1):\n",
    "        \"\"\" Add a pulse that performs a controlled-Z phase flip operation on two qubits. \"\"\"\n",
    "\n",
    "    # Gates implemented on top of other gates:\n",
    "\n",
    "    def h(self, i):\n",
    "        \"\"\" Apply a hadamard gate to qubit i. \"\"\"\n",
    "\n",
    "    def cnot(self, i):\n",
    "        \"\"\" Apply a CNOT gate to qubit i. \"\"\""
   ]
  },
  {
   "cell_type": "markdown",
   "id": "3abb88b3",
   "metadata": {},
   "source": [
    "# Implementation"
   ]
  },
  {
   "cell_type": "code",
   "execution_count": 4,
   "id": "492b2cc4",
   "metadata": {},
   "outputs": [],
   "source": [
    "# Your code goes here"
   ]
  },
  {
   "cell_type": "markdown",
   "id": "a983a8a5",
   "metadata": {},
   "source": [
    "# Example uses"
   ]
  },
  {
   "cell_type": "code",
   "execution_count": 5,
   "id": "9a82c57f",
   "metadata": {},
   "outputs": [],
   "source": [
    "atoms = [(1, 0), (0, 1)]\n",
    "circuit = NeutralAtomCircuit(atoms)\n",
    "\n",
    "# Example circuit 1: Pretty sequence of rotations the form a closed loop (qubit 0)\n",
    "#circuit.rx(0, np.pi / 4)\n",
    "#circuit.rz(0, np.pi / 4)\n",
    "#circuit.ry(0, np.pi / 4)\n",
    "\n",
    "# Example circuit 2: Pretty sequence of rotations the form a closed loop (qubit 1)\n",
    "#circuit.rx(1, np.pi / 4)\n",
    "#circuit.rz(1, np.pi / 4)\n",
    "#circuit.ry(1, np.pi / 4)\n",
    "\n",
    "# Example circuit 3:\n",
    "# Combine the two pervious circuits into one\n",
    "\n",
    "# Example circuit 4: Apply a CNOT\n",
    "# CNOT = (I ⊗ H)CZ(I ⊗ H)\n",
    "# H = X Ry(pi/2)\n",
    "circuit.rx(1, np.pi / 2)\n",
    "circuit.ry(1, np.pi / 4)\n",
    "circuit.cz(0, 1)\n",
    "circuit.rx(1, np.pi / 2)\n",
    "circuit.ry(1, np.pi / 4)\n",
    "\n",
    "psi = circuit.state(\"11\")\n",
    "result = circuit.run(psi, step_rate=20)"
   ]
  }
 ],
 "metadata": {
  "jupytext": {
   "text_representation": {
    "extension": ".md",
    "format_name": "myst",
    "format_version": 0.13,
    "jupytext_version": "1.14.1"
   }
  },
  "kernelspec": {
   "display_name": "Python 3 (ipykernel)",
   "language": "python",
   "name": "python3"
  },
  "language_info": {
   "codemirror_mode": {
    "name": "ipython",
    "version": 3
   },
   "file_extension": ".py",
   "mimetype": "text/x-python",
   "name": "python",
   "nbconvert_exporter": "python",
   "pygments_lexer": "ipython3",
   "version": "3.10.0"
  },
  "source_map": [
   12,
   16,
   20,
   25,
   28,
   32,
   68,
   72,
   74,
   78
  ]
 },
 "nbformat": 4,
 "nbformat_minor": 5
}