{
 "cells": [
  {
   "cell_type": "markdown",
   "id": "661d4d5b",
   "metadata": {},
   "source": [
    "# 00: Introduction to QuTiP"
   ]
  },
  {
   "cell_type": "markdown",
   "id": "65198f28",
   "metadata": {},
   "source": [
    "In this first tutorial, you'll play around with the core of QuTiP.\n",
    "\n",
    "This includes constructing quantum states (e.g. qubits), quantum operators (e.g.\n",
    "gates in a quantum circuit), Hamiltonians, and density matrices. Near the end\n",
    "you'll simulate the evolution of a quantum system using QuTiP's numerical solver\n",
    "for the Schrödinger equation and visualize the result. Along the way you'll find\n",
    "eigenvalues and eigenvectors and plot states on the Bloch sphere.\n",
    "\n",
    "Individually none of the tasks should require more than a few lines of code, but\n",
    "there is a lot to explore. Take your time. Tackle individual steps in multiple\n",
    "ways. Read the documentation on the functions you're using. Explore the objects\n",
    "you're creating. Ask questions.\n",
    "\n",
    "The topics covered in this tutorial will form the foundation we use during the\n",
    "rest of the week -- and that you'll use when using QuTiP yourself once the\n",
    "Summer school is over."
   ]
  },
  {
   "cell_type": "markdown",
   "id": "eec2f149",
   "metadata": {},
   "source": [
    "## Tasks\n",
    "\n",
    "- [Pre-flight check](#Pre-flight-check)\n",
    "- [Import qutip](#Imports)\n",
    "- [Accessing documentation](#Accessing-documentation)\n",
    "- [States](#States)\n",
    "- [Bloch sphere](#Bloch-sphere)\n",
    "- [Operators](#Operators)\n",
    "- [Eigenvalues and eigenstates](#Eigenvalues-and-eigenstates)\n",
    "- [Density matrices](#Density-matrices)\n",
    "- [Time-dependent operators](#Time-dependent-operators)\n",
    "- [Tensor products and partial traces](#Tensor-products-and-partial-traces)\n",
    "- [Hamiltonians](#Hamiltonians)\n",
    "- [Solving the Schrödinger Equation using sesolve](#Solving-the-Schrödinger-Equation-using-sesolve)\n",
    "- [Using functions to make your notebooks neater](#Using-functions-to-make-your-notebooks-neater)"
   ]
  },
  {
   "cell_type": "markdown",
   "id": "ae5063e4",
   "metadata": {},
   "source": [
    "## Pre-flight check"
   ]
  },
  {
   "cell_type": "markdown",
   "id": "dcc2cfa6",
   "metadata": {},
   "source": [
    "If you haven't installed Python, QuTiP, Jupyter and the other requirements yet, do so now by following one of the [sets of instructions](https://github.com/hodgestar/qutip-asqsqis-2022/).\n",
    "\n",
    "You can test that your setup is working by running the [smoke test notebook](https://github.com/hodgestar/qutip-asqsqis-2022/blob/main/smoke-test.ipynb)."
   ]
  },
  {
   "cell_type": "markdown",
   "id": "a549c78a",
   "metadata": {},
   "source": [
    "## Imports"
   ]
  },
  {
   "cell_type": "code",
   "execution_count": 1,
   "id": "1e589116",
   "metadata": {},
   "outputs": [],
   "source": [
    "%matplotlib inline\n",
    "import matplotlib.pyplot as plt"
   ]
  },
  {
   "cell_type": "code",
   "execution_count": 2,
   "id": "1224e21b",
   "metadata": {},
   "outputs": [],
   "source": [
    "import qutip\n",
    "import numpy as np"
   ]
  },
  {
   "cell_type": "markdown",
   "id": "128a1998",
   "metadata": {},
   "source": [
    "## Accessing documentation\n",
    "\n",
    "Once you're back home after the summer school, the QuTiP documentation will be your primary means of learning how to use QuTiP. In these tutorials, we'll encourage you to read the documentation first, so that by the end of the week, you'll be familiar with it and able to answer many of your own questions by reading it.\n",
    "\n",
    "You'll read the documentation in two main ways:\n",
    "\n",
    "- You can type a `?` after any Python object to read its documentation. You can try it right now by typing `qutip.ket?` into notebook cell and pressing enter.\n",
    "\n",
    "- You can find the documentation online at [qutip.org](https://qutip.org/documentation.html). Open it now and have a look. You can also download it as a PDF in case you need to work offline."
   ]
  },
  {
   "cell_type": "markdown",
   "id": "1a064ae1",
   "metadata": {},
   "source": [
    "## States\n",
    "\n",
    "- Creating and examining quantum states\n",
    "- Arithmetic with states\n",
    "- Checking whether states are equal and whether states with a different global phase are equal\n",
    "- What is a Qobj?\n",
    "\n",
    "Functions you'll want to try out in this section are:\n",
    "\n",
    "- `qutip.ket`\n",
    "- `qutip.bra`\n",
    "- `qutip.basis`\n",
    "\n",
    "These functions all return a \"quantum object\" or `Qobj` which is the data type QuTiP uses to store all kinds of quantum objects (states, operators, density matrices). A `Qobj` has some many methods and attributes that are useful.\n",
    "\n",
    "Some attributes to look at include `type`, `dims`, `shape`, `isket`, and `isbra`.\n",
    "\n",
    "A few important methods are `.norm()`, `.unit()`, `.dag()`, and `.overlap(other)`.\n",
    "\n",
    "You can use the arithmetic operators `*` and `+` as you would expect. Try out some simple numerical expressions from this morning's theory lecture.\n",
    "\n",
    "There are many more methods and attributes, but these are enough to start with."
   ]
  },
  {
   "cell_type": "code",
   "execution_count": null,
   "id": "abf821fa",
   "metadata": {},
   "outputs": [],
   "source": []
  },
  {
   "cell_type": "markdown",
   "id": "35dc2191",
   "metadata": {},
   "source": [
    "## Bloch sphere\n",
    "\n",
    "- Plotting 2-level states on the Bloch sphere\n",
    "- Plotting many states at once\n",
    "- Changing the colors\n",
    "- Changing the transparency\n",
    "\n",
    "QuTiP provides a class called `qutip.Bloch`. You can create an instance of it and add states to plot with `.add_states(...)`. Once you've added all the states you want to, you can all `.show()` to render it.\n",
    "\n",
    "The Bloch sphere is very useful for visualizing the state of a two-level system, and you'll use it regularly.\n",
    "\n",
    "You can change the colors and transparency of the arrow shown for each state by setting the `.vector_color` attribute to a list of colors, and the `.vector_alpha` attribute to a list of transparency values."
   ]
  },
  {
   "cell_type": "code",
   "execution_count": null,
   "id": "fc04fc74",
   "metadata": {},
   "outputs": [],
   "source": []
  },
  {
   "cell_type": "markdown",
   "id": "5b20aa26",
   "metadata": {},
   "source": [
    "## Operators\n",
    "\n",
    "- Creating and examining quantum operators\n",
    "- Calculating expectation values\n",
    "- Making projectors\n",
    "\n",
    "Functions to read about and try out in this section are:\n",
    "\n",
    "- `qutip.sigmax`, `qutip.sigmay`, `qutip.sigmaz`\n",
    "- `qutip.qeye`\n",
    "- `qutip.qip.operations.hadamard_transform`\n",
    "\n",
    "Operators are also represented by `Qobj` instances and there are some attitional `Qobj` attributes that are relevant now: `type`, `isoper`, `dims`, `shape`, `isherm`. Look at those you've seen already and compare them with what you've already seen for states.\n",
    "\n",
    "There are some additional `Qobj` methods to try out on operators -- `.diag()`, `.tr()` -- and some to revisit -- `.dag()`, `.norm()`, `.unit()`.\n",
    "\n",
    "You can create a projection operator by calling `.proj()` on a state. Try this out. Also try creating the projector yourself without calling `.proj()`."
   ]
  },
  {
   "cell_type": "code",
   "execution_count": null,
   "id": "6f63d3af",
   "metadata": {},
   "outputs": [],
   "source": []
  },
  {
   "cell_type": "markdown",
   "id": "961f493b",
   "metadata": {},
   "source": [
    "## Eigenvalues and eigenstates\n",
    "\n",
    "- Eigenvalues\n",
    "- Eigenstates\n",
    "\n",
    "It's often important to know the eigenvalues and eigenstates of operators. QuTiP makes this easy. Read about and try out the `.eigenenergies()` and `.eigenstates()` methods of `Qobj`."
   ]
  },
  {
   "cell_type": "code",
   "execution_count": null,
   "id": "7d09d7cb",
   "metadata": {},
   "outputs": [],
   "source": []
  },
  {
   "cell_type": "markdown",
   "id": "2ddd69db",
   "metadata": {},
   "source": [
    "## Density matrices\n",
    "\n",
    "- Creating density matrices\n",
    "- Plotting 2-level density matrices on the Bloch sphere\n",
    "- Plot some pure states\n",
    "- Plot some mixed states\n",
    "\n",
    "QuTiP of course supports density matrices in addition to pure states. You can convert a state to a density matrix by calling `qutip.ket2dm`. You should also try construct some density matrices directly using the expression you saw in the theory lectures earlier.\n",
    "\n",
    "One can also plot density matrices on the Bloch. Try it out! Once you've tried a few, attempt to predict how each density matrix will be represented before calling `.show()` and see if you are right. If you're not right, read the [Wikipedia article](https://en.wikipedia.org/wiki/Bloch_sphere#Density_operators) and try again."
   ]
  },
  {
   "cell_type": "code",
   "execution_count": null,
   "id": "6aba8b9c",
   "metadata": {},
   "outputs": [],
   "source": []
  },
  {
   "cell_type": "markdown",
   "id": "46e95083",
   "metadata": {},
   "source": [
    "## Time-dependent operators\n",
    "\n",
    "- Create a time-dependent operator\n",
    "- What is a QobjEvo?\n",
    "- Adding arguments\n",
    "\n",
    "In QuTiP, time-dependent operators are represented by `qutip.QobjEvo` and *not* by `Qobj`. `QobjEvo` takes in a *list* of terms that are *added* together. Each term consists of a `Qobj` (the constant part) and a time-dependent coefficient function, like so:\n",
    "\n",
    "```\n",
    "sigmax_t = QobjEvo([[sx, \"t\"]])\n",
    "```\n",
    "\n",
    "Here `sx` is the operator and `\"t\"` is the time-dependent coefficient. Note that `\"t\"` is a string. `QobjEvo` turns this string into a very fast function for you. It's also just very convenient to be able to write the coefficient function compactly.\n",
    "\n",
    "Try out some other operators and some other coefficients, for example, `\"cos(t)\"` and `\"sin(t)\"`.\n",
    "\n",
    "You can evaluate a `QobjEvo` at a particular time by calling, for example, `sigmax_t(2)` or `sigmax_t(0.1)`, or any other time. Create a state object that depends on time and plot its evolution on the Bloch sphere.\n",
    "\n",
    "Lastly you can define coefficients that depend on arguments, such as `\"cos(w * t)\"`. You need to supply an initial value for the arguments when creating the `QobjEvo`, like so:\n",
    "\n",
    "```\n",
    "sigmax_cos_t = QobjEvo([[sx, \"cos(w * t)\"]], args={\"w\": np.pi})\n",
    "```\n",
    "\n",
    "You can supply a different argument when calling the `QobjEvo`, for example, `sigmax_cos_t(0.1, {\"w\": np.pi / 4})`."
   ]
  },
  {
   "cell_type": "code",
   "execution_count": null,
   "id": "bf243b63",
   "metadata": {},
   "outputs": [],
   "source": []
  },
  {
   "cell_type": "markdown",
   "id": "0b1dffc8",
   "metadata": {},
   "source": [
    "## Tensor products and partial traces\n",
    "\n",
    "- Construct a state with two or three qubits\n",
    "- Construct an operator on multiple qubits\n",
    "- Construct an entangled state\n",
    "- Take the partial trace of a product state\n",
    "- Take the partial trace of an entangled state\n",
    "\n",
    "QuTiP has two very useful methods for combining and separating sub-systems of a larger quantum state. Read about `qutip.tensor` and `Qobj.ptrace` and try them out."
   ]
  },
  {
   "cell_type": "code",
   "execution_count": null,
   "id": "1af24872",
   "metadata": {},
   "outputs": [],
   "source": []
  },
  {
   "cell_type": "markdown",
   "id": "b3c7f3d4",
   "metadata": {},
   "source": [
    "## Hamiltonians\n",
    "\n",
    "- Building Hamiltonians\n",
    "- Plotting eigenvalues\n",
    "\n",
    "Now use everything you've learned so far to construct a time-dependent Hamiltonian and plot the evolution of its eigenvalues over time."
   ]
  },
  {
   "cell_type": "code",
   "execution_count": null,
   "id": "5aef626a",
   "metadata": {},
   "outputs": [],
   "source": []
  },
  {
   "cell_type": "markdown",
   "id": "6072e156",
   "metadata": {},
   "source": [
    "## Solving the Schrödinger Equation using sesolve\n",
    "\n",
    "- Plotting the states\n",
    "- Plotting the states on the Bloch sphere\n",
    "- Plotting expectation values\n",
    "\n",
    "\n",
    "QuTiP's function for solving the Schrödinger equation is `qutip.sesolve`. `sesolve` returns a `result` object that has a `.states` attribute containing the states of the system at each requested time.\n",
    "\n",
    "Or you can pass a list of expectation operators and then `result` will have a `.expect` attribute that contains the expectation values of each operator at each time. `.expect[0]` will contain the values of the first operator, `.expect[1]` all the values of the second operator, and so on.\n",
    "\n",
    "Try it out and plot the results!\n",
    "\n",
    "If you need to plot values, you can use `plt.plot(x, y, label=\"Label for this plot\")`. You can read the help for `plt.plot` to find out more."
   ]
  },
  {
   "cell_type": "code",
   "execution_count": null,
   "id": "54500d0a",
   "metadata": {},
   "outputs": [],
   "source": []
  },
  {
   "cell_type": "markdown",
   "id": "8a029466",
   "metadata": {},
   "source": [
    "## Using functions to make your notebooks neater\n",
    "\n",
    "- Write a function for displaying the eigenstates of an operator\n",
    "- Write a function for displaying states on the Bloch sphere"
   ]
  },
  {
   "cell_type": "code",
   "execution_count": null,
   "id": "f74176ba",
   "metadata": {},
   "outputs": [],
   "source": []
  }
 ],
 "metadata": {
  "jupytext": {
   "formats": "md:myst,ipynb",
   "text_representation": {
    "extension": ".md",
    "format_name": "myst",
    "format_version": 0.13,
    "jupytext_version": "1.14.4"
   }
  },
  "kernelspec": {
   "display_name": "Python 3 (ipykernel)",
   "language": "python",
   "name": "python3"
  },
  "language_info": {
   "codemirror_mode": {
    "name": "ipython",
    "version": 3
   },
   "file_extension": ".py",
   "mimetype": "text/x-python",
   "name": "python",
   "nbconvert_exporter": "python",
   "pygments_lexer": "ipython3",
   "version": "3.10.0"
  },
  "source_map": [
   13,
   17,
   36,
   54,
   58,
   64,
   68,
   73,
   76,
   88,
   113,
   115,
   130,
   132,
   152,
   154,
   163,
   165,
   178,
   180,
   208,
   210,
   222,
   224,
   233,
   235,
   252,
   254,
   261
  ]
 },
 "nbformat": 4,
 "nbformat_minor": 5
}