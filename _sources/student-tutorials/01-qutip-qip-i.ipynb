{
 "cells": [
  {
   "cell_type": "markdown",
   "id": "57ab2832",
   "metadata": {},
   "source": [
    "# 01: Quantum Information Processing in QuTiP I"
   ]
  },
  {
   "cell_type": "markdown",
   "id": "8f7ac76b",
   "metadata": {},
   "source": [
    "In this tutorial, we'll take a look at QuTiP's features for building quantum circuits and quantum gates."
   ]
  },
  {
   "cell_type": "markdown",
   "id": "469513fa",
   "metadata": {},
   "source": [
    "## Tasks\n",
    "\n",
    "- [Import qutip and qutip.qip](#Imports)\n",
    "- [Build and run a circuit with a single qubit and a Hadamard gate](#Build-and-run-a-circuit-with-a-single-qubit-and-a-hadamard-gate)\n",
    "- [Build a circuit that prepares a Bell state](#Build-a-circuit-that-prepares-a-bell-state)\n",
    "- [Now make circuits that prepare each of the four Bell basis states](#Now-make-circuits-that-prepare-each-of-the-four-bell-basis-states)\n",
    "- [Add measurements to a circuit](#Add-measurements-to-a-circuit)\n",
    "- [Quantum teleportation](#Quantum-teleportation)"
   ]
  },
  {
   "cell_type": "markdown",
   "id": "80752ed9",
   "metadata": {},
   "source": [
    "## Imports"
   ]
  },
  {
   "cell_type": "code",
   "execution_count": 1,
   "id": "ce05f263",
   "metadata": {},
   "outputs": [],
   "source": [
    "%matplotlib inline\n",
    "import matplotlib.pyplot as plt"
   ]
  },
  {
   "cell_type": "code",
   "execution_count": 2,
   "id": "75ab6230",
   "metadata": {},
   "outputs": [],
   "source": [
    "import qutip\n",
    "import qutip.qip as qip\n",
    "import qutip.qip.operations as qip_ops\n",
    "import qutip.qip.circuit as qip_circuit\n",
    "import numpy as np"
   ]
  },
  {
   "cell_type": "markdown",
   "id": "41679af3",
   "metadata": {},
   "source": [
    "## Build and run a circuit with a single qubit and a Hadamard gate\n",
    "\n",
    "- One creates a circuit with `qip_circuit.QubitCircuit`\n",
    "- A gate can be added to a circuit using `.add_gate(NAME_OF_GATE, target=QUBIT_TO_TARGET)`\n",
    "- The qubit name for the Hadamard gate is `SNOT`.\n",
    "- Displaying a gate should print a nice circuit diagram in your notebook\n",
    "- When you get stuck try `qip_circuit.QubitCircuit?` in a new notebook cell -- this will show the documentation!\n",
    "- The `?` also works for any other class, object or method.\n",
    "- Once you've built the circuit, call `.run(...)` to try it out on the two basis states."
   ]
  },
  {
   "cell_type": "code",
   "execution_count": null,
   "id": "29a2e871",
   "metadata": {},
   "outputs": [],
   "source": []
  },
  {
   "cell_type": "markdown",
   "id": "35d6c24f",
   "metadata": {},
   "source": [
    "## Build a circuit that prepares a Bell state\n",
    "\n",
    "- This circuit should have two qubits.\n",
    "- Used |00> as your initial state.\n",
    "- Run the circuit and check the result.\n",
    "- Start with a simple circuit with no gates and then modify it. Run different versions to see what they do.\n",
    "- Then modify it step by step making it a bit less wrong each time.\n",
    "- You can create the state |00> using `qutip.ket(\"00\")`, but feel free to try other ways too."
   ]
  },
  {
   "cell_type": "code",
   "execution_count": null,
   "id": "4c9f655b",
   "metadata": {},
   "outputs": [],
   "source": []
  },
  {
   "cell_type": "markdown",
   "id": "60ab12c4",
   "metadata": {},
   "source": [
    "## Now make circuits that prepare each of the four Bell basis states\n",
    "\n",
    "The Bell basis states are:\n",
    "\n",
    "$$ |\\Phi ^{+}\\rangle ={\\frac {1}{{\\sqrt {2}}}}(|0\\rangle _{A}\\otimes |0\\rangle _{B}+|1\\rangle _{A}\\otimes |1\\rangle _{B}) $$\n",
    "\n",
    "$$ |\\Phi ^{-}\\rangle ={\\frac {1}{{\\sqrt {2}}}}(|0\\rangle _{A}\\otimes |0\\rangle _{B}-|1\\rangle _{A}\\otimes |1\\rangle _{B}) $$\n",
    "\n",
    "$$ |\\Psi ^{+}\\rangle ={\\frac {1}{{\\sqrt {2}}}}(|0\\rangle _{A}\\otimes |1\\rangle _{B}+|1\\rangle _{A}\\otimes |0\\rangle _{B}) $$\n",
    "\n",
    "$$ |\\Psi ^{-}\\rangle ={\\frac {1}{{\\sqrt {2}}}}(|0\\rangle _{A}\\otimes |1\\rangle _{B}-|1\\rangle _{A}\\otimes |0\\rangle _{B}) $$\n",
    "\n",
    "Use |00> as your initial state again.\n",
    "\n",
    "If you get stuck, think about how to modify the circuits you've used already to get the desired state.\n",
    "\n",
    "Some other gates you might need are `CSIGN` and `X`."
   ]
  },
  {
   "cell_type": "code",
   "execution_count": null,
   "id": "555c134d",
   "metadata": {},
   "outputs": [],
   "source": []
  },
  {
   "cell_type": "markdown",
   "id": "6662c313",
   "metadata": {},
   "source": [
    "## Add measurements to a circuit\n",
    "\n",
    "The next task is to add a measurement to our circuit.\n",
    "\n",
    "In order to store the measurement result, we need to add classical bits. The same way we had `N` for the number of qubits, we'll add `num_cbits=1` (or 2, 3, etc) to specify the number of classical bits our circuit will use. This goes into the call to create the circuit, e.g. `QubitCircuit(..., num_cbits=1)`.\n",
    "\n",
    "Now that we have somewhere to store the result, we can add a measurement to our circuit by calling `.add_measurement(LABEL, targets=QUBIT_INDEX, classical_store=CLASSICAL_BIT_INDEX)`.\n",
    "\n",
    "The measurements are a little like gates, but there are some big differences. A measurement collapses a the state of a qubit to either the |0> or the |1> state. From that point onwards, the circuit has *two* possible quantum states. Adding another measurement doubles the number of possible outcomes to four. Adding a third brings the total to eight, and so.\n",
    "\n",
    "There are two ways to run a circuit with measurement, and you should try out both:\n",
    "\n",
    "- `.run(...)` returns just the final state. It's the equivalent of running a real circuit on a quantum device once. You'll also hear people refer to this as a \"single shot\". You can provide a list via `cbits=` to return the classical measurement results from this one run.\n",
    "\n",
    "- `.run_statistics(...)` returns all possible final states along with their probabilities and the corresponding values of the classical bits. Very useful when wanting to understand the behaviour of small circuits quickly. The returned result has attributes `.probabilites`, `.final_states` and `.cbits`. Each of these are lists with one entry for each possible outcome.\n",
    "\n",
    "Start with a simple circuit with just one qubit, one classical bit, a single Hadamard gate and single measurement. One you've explored that fully, you can try add some measurements to your Bell state circuits from the previous section."
   ]
  },
  {
   "cell_type": "code",
   "execution_count": null,
   "id": "13f9788f",
   "metadata": {},
   "outputs": [],
   "source": []
  },
  {
   "cell_type": "markdown",
   "id": "e09b7416",
   "metadata": {},
   "source": [
    "## Quantum teleportation\n",
    "\n",
    "You should have coverted the quantum teleportation protocol in the lectures, but if you need a refresher you can find a excellent pair for videos by Michael Nielsen on YouTube:\n",
    "\n",
    "- [Quantum teleportation](https://www.youtube.com/watch?v=3wZ35c3oYUE)\n",
    "- [Quantum teleportation discussion](https://www.youtube.com/watch?v=Yfk7J1kBegw)\n",
    "\n",
    "Start simply by determining the basics:\n",
    "\n",
    "- How many qubits will your circuit need?\n",
    "- How many measurements will need to be performed?\n",
    "- How many classical bits will be needed to store the measurement outcomes?\n",
    "- Write down the steps of the protocol for yourself.\n",
    "- Implement each of the small steps and check the outcomes match what you expect.\n",
    "\n",
    "Right at the end of the protocol we need to apply a gate based on the outcome of the measurements:\n",
    "\n",
    "- $|00⟩ \\rightarrow $ no operation\n",
    "- $|01⟩ \\rightarrow Z$\n",
    "- $|10⟩ \\rightarrow X$\n",
    "- $|11⟩ \\rightarrow ZX$\n",
    "\n",
    "We haven't seen how to do this yet, but QuTiP provides an option for it:\n",
    "\n",
    "```python\n",
    "qc.add_gate(\"X\", targets=[2], classical_controls=[0])\n",
    "```\n",
    "\n",
    "This will apply an `X` gate to qubit `2`, only if the value of the zeroth classical bit is `1`. Try it out in a simpler circuit first.\n",
    "\n",
    "When you look at the final result, you'll be looking at all three qubits, so you'll need take a partial trace to see just the qubit that the initial state has been teleported to.\n",
    "\n",
    "For AFTER the tutorial:\n",
    "\n",
    "- You can find a great worked example of teleportation in the [QuTiP tutorials](https://nbviewer.ipython.org/github/qutip/qutip-notebooks/blob/master/examples/teleportation.ipynb). Do not read it now! Use it as a reference later on when you're revisiting this tutorial or want to remember the details of the protocol again."
   ]
  },
  {
   "cell_type": "code",
   "execution_count": null,
   "id": "74caa209",
   "metadata": {},
   "outputs": [],
   "source": []
  },
  {
   "cell_type": "markdown",
   "id": "9513683c",
   "metadata": {},
   "source": [
    "## Using functions to make your notebooks neater\n",
    "\n",
    "- Write a function for displaying the run_statistics of a given circuit and initial state"
   ]
  },
  {
   "cell_type": "code",
   "execution_count": null,
   "id": "c4a3369f",
   "metadata": {},
   "outputs": [],
   "source": []
  }
 ],
 "metadata": {
  "jupytext": {
   "formats": "md:myst,ipynb",
   "text_representation": {
    "extension": ".md",
    "format_name": "myst",
    "format_version": 0.13,
    "jupytext_version": "1.14.4"
   }
  },
  "kernelspec": {
   "display_name": "Python 3 (ipykernel)",
   "language": "python",
   "name": "python3"
  },
  "language_info": {
   "codemirror_mode": {
    "name": "ipython",
    "version": 3
   },
   "file_extension": ".py",
   "mimetype": "text/x-python",
   "name": "python",
   "nbconvert_exporter": "python",
   "pygments_lexer": "ipython3",
   "version": "3.10.0"
  },
  "source_map": [
   13,
   17,
   21,
   32,
   36,
   41,
   47,
   59,
   61,
   72,
   74,
   94,
   96,
   116,
   118,
   156,
   158,
   164
  ]
 },
 "nbformat": 4,
 "nbformat_minor": 5
}