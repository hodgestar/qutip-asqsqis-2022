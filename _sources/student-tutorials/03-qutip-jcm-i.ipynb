{
 "cells": [
  {
   "cell_type": "markdown",
   "id": "c6cef5f3",
   "metadata": {},
   "source": [
    "# 03: Jaynes-Cummings Model and the Rotating Wave Approximation"
   ]
  },
  {
   "cell_type": "markdown",
   "id": "0c20e70b",
   "metadata": {},
   "source": [
    "In this tutorial we will construct the Jaynes-Cummings Hamiltonian (with and without the RWA) and see how the system evolves under the Schrodinger equation (that is, without dissipation) .\n",
    "We will use this to investigate the limits of the RWA in the JCM."
   ]
  },
  {
   "cell_type": "markdown",
   "id": "57e5abb6",
   "metadata": {},
   "source": [
    "The Jaynes-Cumming model is the simplest possible model of quantum mechanical light-matter interaction, describing a single two-level atom interacting with a single electromagnetic cavity mode. The full Hamiltonian for the system (in dipole interaction form) is given by\n",
    "\n",
    "$$H = H_{\\rm atom} + H_{\\rm cavity} + H_{\\rm interact}$$\n",
    "\n",
    "The atom Hamiltonian we use in this case is\n",
    "\n",
    "$$\\frac{1}{2} \\hbar \\omega_{a} \\sigma_z$$\n",
    "\n",
    "where $\\omega_a$ is the system frequency.\n",
    "\n",
    "Note that the Hamiltonian for the atom may take numerous forms. Any Hermitean operator on a two-level state is possible, but it is useful to nomalize the operator so that the difference between its eigenvalues is $1$ so that $\\omega_a$ has consistent units.\n",
    "\n",
    "The cavity Hamiltonian is given by\n",
    "\n",
    "$$H_{\\rm cavity} = \\hbar \\omega_c a^\\dagger a$$\n",
    "\n",
    "where $\\omega_c$ is $\\omega_a$ is the frequencies of the cavity and $a$ and $a^\\dagger$ are the annihilation and creation operators of the cavity respectively.\n",
    "\n",
    "The interaction Hamiltonian is given by\n",
    "\n",
    "$$H_{\\rm interact} = \\hbar g(a^\\dagger + a)(\\sigma_- + \\sigma_+)$$\n",
    "\n",
    "or with the rotating-wave approximation\n",
    "\n",
    "$$H_{\\rm interact-RWA} = \\hbar g(a^\\dagger\\sigma_- + a\\sigma_+)$$\n",
    "\n",
    "where $\\sigma_-$ and $\\sigma_+$ are the annihilation and creation operators for the atom respectively.\n",
    "\n",
    "Note that in this notebook we will work in units where $\\hbar=1$."
   ]
  },
  {
   "cell_type": "markdown",
   "id": "a2a1e34f",
   "metadata": {},
   "source": [
    "## Tasks\n",
    "\n",
    "- [Construct the Hamiltonian](#Construct-the-hamiltonian)\n",
    "- [Solve the Schrodinger equation](#Solve-the-schrodinger-equation)\n",
    "- [Visualise the evolution](#Visualise-the-evolution)\n",
    "- [Compare the RWA and non-RWA](#Compare-the-rwa-and-non-rwa)"
   ]
  },
  {
   "cell_type": "markdown",
   "id": "484caad1",
   "metadata": {},
   "source": [
    "## Imports"
   ]
  },
  {
   "cell_type": "code",
   "execution_count": 1,
   "id": "66f1b053",
   "metadata": {},
   "outputs": [],
   "source": [
    "%matplotlib inline\n",
    "import matplotlib.pyplot as plt"
   ]
  },
  {
   "cell_type": "code",
   "execution_count": 2,
   "id": "4118bbab",
   "metadata": {},
   "outputs": [],
   "source": [
    "import qutip\n",
    "import numpy as np"
   ]
  },
  {
   "cell_type": "markdown",
   "id": "a114c005",
   "metadata": {},
   "source": [
    "## Construct the Hamiltonian\n",
    "\n",
    "- add variables for the atom and cavity parameters\n",
    "- create the operators for the JCM Hamiltonian\n",
    "- combine into the JCM Hamiltonian (no RWA)\n",
    "- look at the energy eigenvalues and eigenstates of the Hamiltonian\n",
    "\n",
    "Here are some example parameter values to start with:\n",
    "\n",
    "$\n",
    "  \\omega_c = 2 \\pi \\\\\n",
    "  \\omega_a = 2 \\pi \\\\\n",
    "  g = 0.05 \\cdot 2 \\pi \\\\\n",
    "$"
   ]
  },
  {
   "cell_type": "code",
   "execution_count": null,
   "id": "5e0cf362",
   "metadata": {},
   "outputs": [],
   "source": []
  },
  {
   "cell_type": "markdown",
   "id": "cce3e218",
   "metadata": {},
   "source": [
    "## Solve the Schrodinger equation\n",
    "\n",
    "- create the initial state of the system (use the state with no photons and the spin system in its excited state)\n",
    "- evolve the system for some time, saving the result.\n",
    "\n",
    "If you need to remind yourself of how sesolve, remember that you can type `qutip.sesolve?` into a notebook cell to bring up the documentation."
   ]
  },
  {
   "cell_type": "code",
   "execution_count": null,
   "id": "ed9d714d",
   "metadata": {},
   "outputs": [],
   "source": []
  },
  {
   "cell_type": "markdown",
   "id": "3d537724",
   "metadata": {},
   "source": [
    "## Visualise the evolution\n",
    "\n",
    "- create expectation operators for observing the state of the system.\n",
    "- add these to sesolve\n",
    "- plot the expectation values together on a set of axes\n",
    "- change the value of g and see how it affects the period\n",
    "\n",
    "Two good expectation operators to use are the projectors on the light and matter sub-systems."
   ]
  },
  {
   "cell_type": "code",
   "execution_count": null,
   "id": "a525b6a4",
   "metadata": {},
   "outputs": [],
   "source": []
  },
  {
   "cell_type": "markdown",
   "id": "5a99b253",
   "metadata": {},
   "source": [
    "## Compare the RWA and non-RWA\n",
    "\n",
    "- construct another Hamiltonian that uses the RWA\n",
    "- evolve the system under the RWA Hamiltonian.\n",
    "- add the results to the plot\n",
    "- experiment with parameters to determine where the RWA non-RWA diverges"
   ]
  },
  {
   "cell_type": "code",
   "execution_count": null,
   "id": "ac136bc3",
   "metadata": {},
   "outputs": [],
   "source": []
  },
  {
   "cell_type": "markdown",
   "id": "c2f4b747",
   "metadata": {},
   "source": [
    "## Links for further study\n",
    "\n",
    "There is an excellent paper [The Jaynes-Cummings model and its descendants](https://arxiv.org/abs/2202.00330) by Larson and Mavrogordatos, that reviews the Jaynes-Cummings model and its many variations. You can try reading this paper and implementing some of the simpler variants in QuTiP.\n",
    "\n",
    "If you do, please consider polishing your notebook, adding good explanations to it and submitting it as an example for others by opening a pull request for it at https://github.com/qutip/qutip-tutorials/.\n",
    "\n",
    "This paper covers a *lot* of work, so don't expect to understand all of it quickly. Start with the earlier sections. We will explore the Jaynes-Cumming model more in the remaining tutorials."
   ]
  }
 ],
 "metadata": {
  "jupytext": {
   "formats": "md:myst,ipynb",
   "text_representation": {
    "extension": ".md",
    "format_name": "myst",
    "format_version": 0.13,
    "jupytext_version": "1.14.4"
   }
  },
  "kernelspec": {
   "display_name": "Python 3 (ipykernel)",
   "language": "python",
   "name": "python3"
  },
  "language_info": {
   "codemirror_mode": {
    "name": "ipython",
    "version": 3
   },
   "file_extension": ".py",
   "mimetype": "text/x-python",
   "name": "python",
   "nbconvert_exporter": "python",
   "pygments_lexer": "ipython3",
   "version": "3.10.0"
  },
  "source_map": [
   13,
   17,
   22,
   54,
   63,
   67,
   72,
   75,
   92,
   94,
   103,
   105,
   116,
   118,
   127,
   129
  ]
 },
 "nbformat": 4,
 "nbformat_minor": 5
}