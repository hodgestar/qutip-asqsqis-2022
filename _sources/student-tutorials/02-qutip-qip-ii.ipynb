{
 "cells": [
  {
   "cell_type": "markdown",
   "id": "29a8e05e",
   "metadata": {},
   "source": [
    "# 02: Quantum Information Processing in QuTiP II"
   ]
  },
  {
   "cell_type": "markdown",
   "id": "1786e0c2",
   "metadata": {},
   "source": [
    "In the previous tutorial, we looked at how to create and run circuits. In this tutorial we'll look at how circuits are implemented on real quantum devices and how we can use QuTiP to simulate the *quantum hardware* itself.\n",
    "\n",
    "Quite a few steps are needed to translate a quantum circuit into actions for robots to perform on the real apparatus:\n",
    "\n",
    "1. Optimize the assignment of qubits to the device.\n",
    "2. Add swap gates to allow operations between device qubits that cannot directly interact.\n",
    "3. Replace the circuit gates with gates the device can perform.\n",
    "4. Translate the gates into control pulses for the device.\n",
    "5. Send the pulses to the device.\n",
    "\n",
    "The steps above are just one example of a translation process. The details will vary between different kinds of quantum hardware. In a neutral atom device, one would choose how to layout the neutral atoms for the circuit. The pulses themselves will need to be optimized for the circuit. Some pulses will be performed simultaneously. Others will need to be performed one after the other. Pulses and gates could be combined. Extra pulses might be added to perform dynamic decoupling.\n",
    "\n",
    "QuTiP's QIP module provides the means to perform all of the steps above and to run the resulting pulses on a *simulated* hardware device.\n",
    "\n",
    "A simulated hardware device is a time-dependented Hamiltonian (or Liouvillian) that describes the physics of the system (e.g. interactions between atoms or qubits) and the actions of the control pulses. Typically the control pulses define the time-dependent amplitude of an oscillating term in the Hamiltonian.\n",
    "\n",
    "Let's try all the steps out in QuTiP."
   ]
  },
  {
   "cell_type": "markdown",
   "id": "6fca8544",
   "metadata": {},
   "source": [
    "## Tasks\n",
    "\n",
    "- [Import qutip and qutip.qip](#Imports)\n",
    "- [Spin chain qubits](#Spin-chain-qubits)\n",
    "- [Create a simple circuit to translate](#Create-a-simple-circuit-to-translate)\n",
    "- [Add swap gates by hand](#Add-swap-gates-by-hand)\n",
    "- [Add swap gates automatically](#Add-swap-gates-automatically)\n",
    "- [Translate to native gates](#Translate-to-native-gates)\n",
    "- [Turn gates into pulses](#Turn-gates-into-pulses)\n",
    "- [Run the pulses on the device](#Run-the-pulses-on-the-device)"
   ]
  },
  {
   "cell_type": "markdown",
   "id": "048553a8",
   "metadata": {},
   "source": [
    "## Imports"
   ]
  },
  {
   "cell_type": "code",
   "execution_count": 1,
   "id": "c6a2cbd3",
   "metadata": {},
   "outputs": [],
   "source": [
    "%matplotlib inline\n",
    "import matplotlib.pyplot as plt"
   ]
  },
  {
   "cell_type": "code",
   "execution_count": 2,
   "id": "d58b45e7",
   "metadata": {},
   "outputs": [],
   "source": [
    "import qutip\n",
    "from qutip_qip.circuit import QubitCircuit\n",
    "from qutip_qip.device import LinearSpinChain\n",
    "import numpy as np\n",
    "import re"
   ]
  },
  {
   "cell_type": "code",
   "execution_count": 3,
   "id": "0a3bee9c",
   "metadata": {},
   "outputs": [],
   "source": [
    "orig_latex_code = QubitCircuit.latex_code\n",
    "\n",
    "def fix_swap(self):\n",
    "    tex = orig_latex_code(self)\n",
    "    tex = re.sub(r\"( \\\\qwx\\[)(\\d+)(\\] )\", r\"\\1-\\2\\3\", tex)\n",
    "    return tex\n",
    "\n",
    "QubitCircuit.latex_code = fix_swap"
   ]
  },
  {
   "cell_type": "markdown",
   "id": "1fe13795",
   "metadata": {},
   "source": [
    "## Linear spin chain qubits\n",
    "\n",
    "Before we begin, we need to pick what kind of hardware device we will translate to. We'll choose a linear spin chain with three qubits:\n",
    "\n",
    "![02-spin-chain.png](./02-spin-chain.png)\n",
    "\n",
    "The nodes are the three qubits. The lines are the interactions between them. Note that each qubit can only interact with the two next to it in the chain. Qubits 0 and 2 cannot interact directly.\n",
    "\n",
    "Each qubit can be controlled by rotations around the $X$ and $Z$ axis. The corresponding Hamiltonian for qubit $j$ is:\n",
    "\n",
    "$$\n",
    "    \\Omega^x_{j}(t) \\sigma^x_{j} + \\Omega^z_{j}(t) \\sigma^z_{j}\n",
    "$$\n",
    "\n",
    "$ \\Omega^x_{j}(t) $ and $ \\Omega^z_{j}(t) $ are coefficients that are functions of time and which we can control in the real device by, e.g., firing a microwave pulse towards qubit $j$.\n",
    "\n",
    "The interactive between qubits $j$ and $j + 1$ is described by the Hamiltonian:\n",
    "    \n",
    "$$\n",
    "    g_{j}(t) (\\sigma^x_{j}\\sigma^x_{j+1} + \\sigma^y_{j}\\sigma^y_{j+1})\n",
    "$$\n",
    "\n",
    "Where here $g_{j}(t)$ is the time-dependent coefficient function that we can use to control the interaction.\n",
    "\n",
    "Putting all Hamiltonians for all of the qubits and interaction together, we get the full Hamiltonian for the system:\n",
    "\n",
    "$$\n",
    "H = \\sum_{j=0}^{N-1}\n",
    "        \\Omega^x_{j}(t) \\sigma^x_{j} +\n",
    "        \\Omega^z_{j}(t) \\sigma^z_{j} +\n",
    "    \\sum_{j=0}^{N-2}\n",
    "        g_{j}(t)\n",
    "        (\\sigma^x_{j}\\sigma^x_{j+1}+\n",
    "        \\sigma^y_{j}\\sigma^y_{j+1})\n",
    "$$\n",
    "\n",
    "Don't worry about understanding the Hamiltonian fully. The point is to have a general model of how a linear spin chain interacts and can be controlled that you keep in your head during the rest of this tutorial.\n",
    "\n",
    "QuTiP has a prebuilt version of this model. You can great an instance of it with:"
   ]
  },
  {
   "cell_type": "code",
   "execution_count": 4,
   "id": "c25f6a7c",
   "metadata": {},
   "outputs": [],
   "source": [
    "processor = LinearSpinChain(3)"
   ]
  },
  {
   "cell_type": "markdown",
   "id": "73d42d6e",
   "metadata": {},
   "source": [
    "## Create a simple circuit to translate\n",
    "\n",
    "Create this simple circuit to translate:\n",
    "\n",
    "![02-circuit.png](./02-circuit.png)\n",
    "\n",
    "It doesn't perform any specific useful operation. It's just a very simple example that will allow us to focus on what is happening during translation rather than what the circuit does."
   ]
  },
  {
   "cell_type": "code",
   "execution_count": null,
   "id": "0061be7f",
   "metadata": {},
   "outputs": [],
   "source": []
  },
  {
   "cell_type": "markdown",
   "id": "543fcb11",
   "metadata": {},
   "source": [
    "## Add swap gates by hand\n",
    "\n",
    "The circuit above can't be implemened directly on the device because the first CNOT operates on qubits 0 and 2 which are not next to each other in the spin chain and so can't interact.\n",
    "\n",
    "By hand, add some swap gates around the first CNOT gate so that the result circuit performs the same operation but could be executed on our spin chain.\n",
    "\n",
    "Could you have added different swap gates? Can you think of some reasons why some choices might be better than others? What about in bigger circuits with more gates?"
   ]
  },
  {
   "cell_type": "code",
   "execution_count": null,
   "id": "4ef6e5fb",
   "metadata": {},
   "outputs": [],
   "source": []
  },
  {
   "cell_type": "markdown",
   "id": "8760ae7a",
   "metadata": {},
   "source": [
    "## Add swap gates automatically\n",
    "\n",
    "QuTiP's processors have a built-in method for performing the swaps -- `processor.topology_map(qc)`. It takes in a circuit and returns a new circuit with the swaps added.\n",
    "\n",
    "It has a small bug that means we have to fix the labels for the input states afterwards by doing `qc_swapped.input_states = qc.input_states`. If you are feeling adventurous later this week, we'd love a pull request to fix this bug. The issue is described in more detail at https://github.com/qutip/qutip-qip/issues/165.\n",
    "\n",
    "Compare the resulting circuit below to the swaps you used.\n",
    "\n",
    "Spend some time thinking about how you might write a general algorithm like this which can apply the appropriate swaps to *any* circuit. How would you make such an algorithm optimal? What does optimal mean for this problem? Would it help to be able to reorder the qubits at the start?"
   ]
  },
  {
   "cell_type": "code",
   "execution_count": null,
   "id": "351eb18a",
   "metadata": {},
   "outputs": [],
   "source": []
  },
  {
   "cell_type": "markdown",
   "id": "353f5f7a",
   "metadata": {},
   "source": [
    "## Translate to native gates\n",
    "\n",
    "Now that we have the swaps in place, the next step is to translate the gates our device can implement -- i.e. ones that can be turned into control pulses to send to our spin chain device.\n",
    "\n",
    "You can list the native gates for the device using:\n",
    "```\n",
    "processor.native_gates\n",
    "```\n",
    "\n",
    "They are native single qubit gates are `RX` and `RZ`. They rotate the qubit around the `X` and `Z` axes. Each takes an angle to rotate through as a parameter. They are performed using the $\\Omega^x_{j}(t)$ and $\\Omega^z_{j}(t)$ pulses from the Hamiltonian.\n",
    "\n",
    "The native two qubit gates are `ISWAP` and `SQRTISWAP`. They are performed using the interaction pulse $g_{j}(t)$ plus some additional control pulses on the individual qubits involved.\n",
    "\n",
    "Use `processor.transpile(qc)` to transform the gates into native gates. Whoa! It's complicated. Try to figure out what sequence of gates each of the individual gates was translated too. Use `.transpile` on simpler circuits with just one gate if you get stuck or to check your findings.\n",
    "\n",
    "What are the strange giant $Ph(\\pi /2)$ gates? How are they implemented?"
   ]
  },
  {
   "cell_type": "code",
   "execution_count": null,
   "id": "35d08299",
   "metadata": {},
   "outputs": [],
   "source": []
  },
  {
   "cell_type": "markdown",
   "id": "26e7b0e8",
   "metadata": {},
   "source": [
    "## Turn gates into pulses\n",
    "\n",
    "The compiled coefficients are square pulses and the control coefficients on 𝜎𝑧 and 𝜎𝑥 are also different, resulting in different gate times."
   ]
  },
  {
   "cell_type": "code",
   "execution_count": null,
   "id": "0710f900",
   "metadata": {},
   "outputs": [],
   "source": []
  },
  {
   "cell_type": "markdown",
   "id": "cd3e0e53",
   "metadata": {},
   "source": [
    "## Run the pulses on the device\n",
    "\n",
    "QuTiP's processor provides a method `.run_state(...)` for executing the pulses. Under the hood, this runs one of the QuTiP solvers, typically either `sesolve` or `mesolve`, and returns the result.\n",
    "\n",
    "Use `run_state(init_state=psi0)` to determine the effect of the pulses on `psi0`. What do the dimensions of `psi0` have to be? Do the results match what you expect? Try a few different values for `psi0`.\n",
    "\n",
    "By setting the decoherence times `t1` and `t2` on the processor using:\n",
    "```\n",
    "processor.t1 = 100\n",
    "processor.t2 = 30\n",
    "```\n",
    "we can simulate the loss of information to the environment on the circuit.\n",
    "\n",
    "If we add decoherence, what happens to the outcomes?"
   ]
  },
  {
   "cell_type": "code",
   "execution_count": null,
   "id": "94df64fa",
   "metadata": {},
   "outputs": [],
   "source": []
  },
  {
   "cell_type": "markdown",
   "id": "4880969e",
   "metadata": {},
   "source": [
    "## Links for further study\n",
    "\n",
    "Boxi Li wrote an excellent example of simulating the entire Deutsch-Jozsa algorithm on a spin chain in QuTiP. You can find it with the other QuTiP tutorials at [qutip.org](https://qutip.org/tutorials.html) under the title *Simulating the Deutsch–Jozsa algorithm with noise*."
   ]
  }
 ],
 "metadata": {
  "jupytext": {
   "formats": "md:myst,ipynb",
   "text_representation": {
    "extension": ".md",
    "format_name": "myst",
    "format_version": 0.13,
    "jupytext_version": "1.14.4"
   }
  },
  "kernelspec": {
   "display_name": "Python 3 (ipykernel)",
   "language": "python",
   "name": "python3"
  },
  "language_info": {
   "codemirror_mode": {
    "name": "ipython",
    "version": 3
   },
   "file_extension": ".py",
   "mimetype": "text/x-python",
   "name": "python",
   "nbconvert_exporter": "python",
   "pygments_lexer": "ipython3",
   "version": "3.10.0"
  },
  "source_map": [
   13,
   17,
   37,
   50,
   54,
   59,
   67,
   76,
   118,
   120,
   130,
   132,
   142,
   144,
   156,
   158,
   177,
   179,
   185,
   187,
   204,
   206
  ]
 },
 "nbformat": 4,
 "nbformat_minor": 5
}